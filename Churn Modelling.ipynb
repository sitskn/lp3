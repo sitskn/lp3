{
 "cells": [
  {
   "cell_type": "markdown",
   "id": "53b215d9",
   "metadata": {},
   "source": [
    "### Group B: Machine Learning"
   ]
  },
  {
   "cell_type": "markdown",
   "id": "a47c6e19",
   "metadata": {},
   "source": [
    "#### Assignment B3\n",
    "Given a bank customer, build a neural network-based classifier that can determine whether they will leave or not in the next 6 months.\n",
    "\n",
    "Dataset Description: The case study is from an open-source dataset from Kaggle. The dataset contains 10,000 sample points with 14 distinct features such as CustomerId, CreditScore, Geography, Gender, Age, Tenure, Balance, etc. \n",
    "\n",
    "Link to the Kaggle project: https://www.kaggle.com/barelydedicated/bank-customer-churn-modeling \n",
    "\n",
    "Perform following steps:\n",
    "\n",
    "1. Read the dataset.\n",
    "2. Distinguish the feature and target set and divide the data set into training and test sets.\n",
    "3. Normalize the train and test data.\n",
    "4. Initialize and build the model. Identify the points of improvement and implement the same.\n",
    "5. Print the accuracy score and confusion matrix."
   ]
  },
  {
   "cell_type": "code",
   "execution_count": 134,
   "id": "55df1476",
   "metadata": {
    "id": "55df1476"
   },
   "outputs": [],
   "source": [
    "import numpy as np\n",
    "import pandas as pd\n",
    "import matplotlib.pyplot as plt\n",
    "%matplotlib inline"
   ]
  },
  {
   "cell_type": "code",
   "execution_count": 135,
   "id": "b05c2e3e-f714-4182-8dfe-f5f488b03f24",
   "metadata": {},
   "outputs": [],
   "source": [
    "import warnings"
   ]
  },
  {
   "cell_type": "code",
   "execution_count": 136,
   "id": "df914b64-4d7a-4f50-9385-958d8fa62700",
   "metadata": {},
   "outputs": [],
   "source": [
    "warnings.filterwarnings(\"ignore\")"
   ]
  },
  {
   "cell_type": "code",
   "execution_count": 137,
   "id": "885cb4ea",
   "metadata": {
    "id": "885cb4ea"
   },
   "outputs": [],
   "source": [
    "df = pd.read_csv('/Users/shreyas/Downloads/RAW/Mini-Pro/Churn_Modelling.csv')"
   ]
  },
  {
   "cell_type": "code",
   "execution_count": 138,
   "id": "d237abb5",
   "metadata": {
    "colab": {
     "base_uri": "https://localhost:8080/",
     "height": 206
    },
    "id": "d237abb5",
    "outputId": "63416765-27a6-469e-96f0-87941a2c8e10"
   },
   "outputs": [
    {
     "data": {
      "text/html": [
       "<div>\n",
       "<style scoped>\n",
       "    .dataframe tbody tr th:only-of-type {\n",
       "        vertical-align: middle;\n",
       "    }\n",
       "\n",
       "    .dataframe tbody tr th {\n",
       "        vertical-align: top;\n",
       "    }\n",
       "\n",
       "    .dataframe thead th {\n",
       "        text-align: right;\n",
       "    }\n",
       "</style>\n",
       "<table border=\"1\" class=\"dataframe\">\n",
       "  <thead>\n",
       "    <tr style=\"text-align: right;\">\n",
       "      <th></th>\n",
       "      <th>RowNumber</th>\n",
       "      <th>CustomerId</th>\n",
       "      <th>Surname</th>\n",
       "      <th>CreditScore</th>\n",
       "      <th>Geography</th>\n",
       "      <th>Gender</th>\n",
       "      <th>Age</th>\n",
       "      <th>Tenure</th>\n",
       "      <th>Balance</th>\n",
       "      <th>NumOfProducts</th>\n",
       "      <th>HasCrCard</th>\n",
       "      <th>IsActiveMember</th>\n",
       "      <th>EstimatedSalary</th>\n",
       "      <th>Exited</th>\n",
       "    </tr>\n",
       "  </thead>\n",
       "  <tbody>\n",
       "    <tr>\n",
       "      <th>0</th>\n",
       "      <td>1</td>\n",
       "      <td>15634602</td>\n",
       "      <td>Hargrave</td>\n",
       "      <td>619</td>\n",
       "      <td>France</td>\n",
       "      <td>Female</td>\n",
       "      <td>42</td>\n",
       "      <td>2</td>\n",
       "      <td>0.00</td>\n",
       "      <td>1</td>\n",
       "      <td>1</td>\n",
       "      <td>1</td>\n",
       "      <td>101348.88</td>\n",
       "      <td>1</td>\n",
       "    </tr>\n",
       "    <tr>\n",
       "      <th>1</th>\n",
       "      <td>2</td>\n",
       "      <td>15647311</td>\n",
       "      <td>Hill</td>\n",
       "      <td>608</td>\n",
       "      <td>Spain</td>\n",
       "      <td>Female</td>\n",
       "      <td>41</td>\n",
       "      <td>1</td>\n",
       "      <td>83807.86</td>\n",
       "      <td>1</td>\n",
       "      <td>0</td>\n",
       "      <td>1</td>\n",
       "      <td>112542.58</td>\n",
       "      <td>0</td>\n",
       "    </tr>\n",
       "    <tr>\n",
       "      <th>2</th>\n",
       "      <td>3</td>\n",
       "      <td>15619304</td>\n",
       "      <td>Onio</td>\n",
       "      <td>502</td>\n",
       "      <td>France</td>\n",
       "      <td>Female</td>\n",
       "      <td>42</td>\n",
       "      <td>8</td>\n",
       "      <td>159660.80</td>\n",
       "      <td>3</td>\n",
       "      <td>1</td>\n",
       "      <td>0</td>\n",
       "      <td>113931.57</td>\n",
       "      <td>1</td>\n",
       "    </tr>\n",
       "  </tbody>\n",
       "</table>\n",
       "</div>"
      ],
      "text/plain": [
       "   RowNumber  CustomerId   Surname  CreditScore Geography  Gender  Age  \\\n",
       "0          1    15634602  Hargrave          619    France  Female   42   \n",
       "1          2    15647311      Hill          608     Spain  Female   41   \n",
       "2          3    15619304      Onio          502    France  Female   42   \n",
       "\n",
       "   Tenure    Balance  NumOfProducts  HasCrCard  IsActiveMember  \\\n",
       "0       2       0.00              1          1               1   \n",
       "1       1   83807.86              1          0               1   \n",
       "2       8  159660.80              3          1               0   \n",
       "\n",
       "   EstimatedSalary  Exited  \n",
       "0        101348.88       1  \n",
       "1        112542.58       0  \n",
       "2        113931.57       1  "
      ]
     },
     "execution_count": 138,
     "metadata": {},
     "output_type": "execute_result"
    }
   ],
   "source": [
    "df.head(3)"
   ]
  },
  {
   "cell_type": "code",
   "execution_count": 139,
   "id": "80b07fe0",
   "metadata": {
    "colab": {
     "base_uri": "https://localhost:8080/"
    },
    "id": "80b07fe0",
    "outputId": "9692fd5a-96d8-4358-adc4-6e8726f67d7a"
   },
   "outputs": [
    {
     "data": {
      "text/plain": [
       "(10000, 14)"
      ]
     },
     "execution_count": 139,
     "metadata": {},
     "output_type": "execute_result"
    }
   ],
   "source": [
    "df.shape"
   ]
  },
  {
   "cell_type": "code",
   "execution_count": 140,
   "id": "bd9c371b",
   "metadata": {
    "colab": {
     "base_uri": "https://localhost:8080/"
    },
    "id": "bd9c371b",
    "outputId": "a9b13bd6-db44-4404-c0fe-8c0762aaf3ed"
   },
   "outputs": [
    {
     "name": "stdout",
     "output_type": "stream",
     "text": [
      "<class 'pandas.core.frame.DataFrame'>\n",
      "RangeIndex: 10000 entries, 0 to 9999\n",
      "Data columns (total 14 columns):\n",
      " #   Column           Non-Null Count  Dtype  \n",
      "---  ------           --------------  -----  \n",
      " 0   RowNumber        10000 non-null  int64  \n",
      " 1   CustomerId       10000 non-null  int64  \n",
      " 2   Surname          10000 non-null  object \n",
      " 3   CreditScore      10000 non-null  int64  \n",
      " 4   Geography        10000 non-null  object \n",
      " 5   Gender           10000 non-null  object \n",
      " 6   Age              10000 non-null  int64  \n",
      " 7   Tenure           10000 non-null  int64  \n",
      " 8   Balance          10000 non-null  float64\n",
      " 9   NumOfProducts    10000 non-null  int64  \n",
      " 10  HasCrCard        10000 non-null  int64  \n",
      " 11  IsActiveMember   10000 non-null  int64  \n",
      " 12  EstimatedSalary  10000 non-null  float64\n",
      " 13  Exited           10000 non-null  int64  \n",
      "dtypes: float64(2), int64(9), object(3)\n",
      "memory usage: 1.1+ MB\n"
     ]
    }
   ],
   "source": [
    "df.info()"
   ]
  },
  {
   "cell_type": "code",
   "execution_count": 141,
   "id": "a13e9a02",
   "metadata": {
    "colab": {
     "base_uri": "https://localhost:8080/"
    },
    "id": "a13e9a02",
    "outputId": "376de75d-0b8d-4d64-fe71-dafe32fa24e8"
   },
   "outputs": [
    {
     "data": {
      "text/plain": [
       "RowNumber\n",
       "1        1\n",
       "6671     1\n",
       "6664     1\n",
       "6665     1\n",
       "6666     1\n",
       "        ..\n",
       "3334     1\n",
       "3335     1\n",
       "3336     1\n",
       "3337     1\n",
       "10000    1\n",
       "Name: count, Length: 10000, dtype: int64"
      ]
     },
     "execution_count": 141,
     "metadata": {},
     "output_type": "execute_result"
    }
   ],
   "source": [
    "df['RowNumber'].value_counts()"
   ]
  },
  {
   "cell_type": "code",
   "execution_count": 142,
   "id": "24255afb",
   "metadata": {
    "colab": {
     "base_uri": "https://localhost:8080/"
    },
    "id": "24255afb",
    "outputId": "bc44b44a-1d84-4420-fafa-4f46b87c0930"
   },
   "outputs": [
    {
     "data": {
      "text/plain": [
       "10000"
      ]
     },
     "execution_count": 142,
     "metadata": {},
     "output_type": "execute_result"
    }
   ],
   "source": [
    "df['RowNumber'].nunique()"
   ]
  },
  {
   "cell_type": "code",
   "execution_count": 143,
   "id": "5551734b",
   "metadata": {
    "colab": {
     "base_uri": "https://localhost:8080/"
    },
    "id": "5551734b",
    "outputId": "1b25946c-509a-41a9-fe52-4009bd3419dd"
   },
   "outputs": [
    {
     "data": {
      "text/plain": [
       "10000"
      ]
     },
     "execution_count": 143,
     "metadata": {},
     "output_type": "execute_result"
    }
   ],
   "source": [
    "df['CustomerId'].nunique()"
   ]
  },
  {
   "cell_type": "code",
   "execution_count": 144,
   "id": "030b79dd",
   "metadata": {
    "id": "030b79dd"
   },
   "outputs": [],
   "source": [
    "df.drop(['RowNumber','CustomerId','Surname'],axis=1,inplace=True)"
   ]
  },
  {
   "cell_type": "code",
   "execution_count": 145,
   "id": "a2d6f72f",
   "metadata": {
    "colab": {
     "base_uri": "https://localhost:8080/"
    },
    "id": "a2d6f72f",
    "outputId": "805e0c71-1c23-4871-c459-660b6149512c"
   },
   "outputs": [
    {
     "data": {
      "text/plain": [
       "(10000, 11)"
      ]
     },
     "execution_count": 145,
     "metadata": {},
     "output_type": "execute_result"
    }
   ],
   "source": [
    "df.shape"
   ]
  },
  {
   "cell_type": "code",
   "execution_count": 146,
   "id": "c9eae799",
   "metadata": {
    "colab": {
     "base_uri": "https://localhost:8080/"
    },
    "id": "c9eae799",
    "outputId": "b97287ba-440b-40eb-d2c1-d6643db91ae6"
   },
   "outputs": [
    {
     "data": {
      "text/plain": [
       "0"
      ]
     },
     "execution_count": 146,
     "metadata": {},
     "output_type": "execute_result"
    }
   ],
   "source": [
    "df.duplicated().sum()"
   ]
  },
  {
   "cell_type": "code",
   "execution_count": 147,
   "id": "9b9b26b5",
   "metadata": {
    "colab": {
     "base_uri": "https://localhost:8080/"
    },
    "id": "9b9b26b5",
    "outputId": "c4e3f981-617c-42fc-cd61-0d27572760bf"
   },
   "outputs": [
    {
     "name": "stdout",
     "output_type": "stream",
     "text": [
      "<class 'pandas.core.frame.DataFrame'>\n",
      "RangeIndex: 10000 entries, 0 to 9999\n",
      "Data columns (total 11 columns):\n",
      " #   Column           Non-Null Count  Dtype  \n",
      "---  ------           --------------  -----  \n",
      " 0   CreditScore      10000 non-null  int64  \n",
      " 1   Geography        10000 non-null  object \n",
      " 2   Gender           10000 non-null  object \n",
      " 3   Age              10000 non-null  int64  \n",
      " 4   Tenure           10000 non-null  int64  \n",
      " 5   Balance          10000 non-null  float64\n",
      " 6   NumOfProducts    10000 non-null  int64  \n",
      " 7   HasCrCard        10000 non-null  int64  \n",
      " 8   IsActiveMember   10000 non-null  int64  \n",
      " 9   EstimatedSalary  10000 non-null  float64\n",
      " 10  Exited           10000 non-null  int64  \n",
      "dtypes: float64(2), int64(7), object(2)\n",
      "memory usage: 859.5+ KB\n"
     ]
    }
   ],
   "source": [
    "df.info()"
   ]
  },
  {
   "cell_type": "code",
   "execution_count": 148,
   "id": "170d76cf",
   "metadata": {
    "colab": {
     "base_uri": "https://localhost:8080/"
    },
    "id": "170d76cf",
    "outputId": "01bcc4fb-a015-4217-d167-862459663e38"
   },
   "outputs": [
    {
     "data": {
      "text/plain": [
       "<Axes: xlabel='Gender'>"
      ]
     },
     "execution_count": 148,
     "metadata": {},
     "output_type": "execute_result"
    },
    {
     "data": {
      "image/png": "[encoded data removed]",
      "text/plain": [
       "<Figure size 640x480 with 1 Axes>"
      ]
     },
     "metadata": {},
     "output_type": "display_data"
    }
   ],
   "source": [
    "df['Gender'].value_counts().plot(kind='bar')"
   ]
  },
  {
   "cell_type": "code",
   "execution_count": 149,
   "id": "4fb917b9",
   "metadata": {
    "colab": {
     "base_uri": "https://localhost:8080/"
    },
    "id": "4fb917b9",
    "outputId": "72dc230b-1375-45d8-a08c-abf502fb85dc"
   },
   "outputs": [
    {
     "data": {
      "text/plain": [
       "Gender  Exited\n",
       "Female  0         3404\n",
       "        1         1139\n",
       "Male    0         4559\n",
       "        1          898\n",
       "Name: count, dtype: int64"
      ]
     },
     "execution_count": 149,
     "metadata": {},
     "output_type": "execute_result"
    }
   ],
   "source": [
    "grp = df.groupby('Gender')['Exited'].value_counts()\n",
    "grp"
   ]
  },
  {
   "cell_type": "code",
   "execution_count": 150,
   "id": "fe34868b",
   "metadata": {
    "colab": {
     "base_uri": "https://localhost:8080/"
    },
    "id": "fe34868b",
    "outputId": "7b3b2cf7-b676-4114-91e1-8705c5ac5b34"
   },
   "outputs": [
    {
     "data": {
      "text/plain": [
       "<Axes: xlabel='Geography'>"
      ]
     },
     "execution_count": 150,
     "metadata": {},
     "output_type": "execute_result"
    },
    {
     "data": {
      "image/png": "[encoded data removed]",
      "text/plain": [
       "<Figure size 640x480 with 1 Axes>"
      ]
     },
     "metadata": {},
     "output_type": "display_data"
    }
   ],
   "source": [
    "df['Geography'].value_counts().plot(kind='bar')"
   ]
  },
  {
   "cell_type": "code",
   "execution_count": 151,
   "id": "147e2b21",
   "metadata": {
    "colab": {
     "base_uri": "https://localhost:8080/"
    },
    "id": "147e2b21",
    "outputId": "87c42077-f90b-4d2b-cd9f-3e2089ad1bfe"
   },
   "outputs": [
    {
     "data": {
      "text/plain": [
       "Geography  Exited\n",
       "France     0         4204\n",
       "           1          810\n",
       "Germany    0         1695\n",
       "           1          814\n",
       "Spain      0         2064\n",
       "           1          413\n",
       "Name: count, dtype: int64"
      ]
     },
     "execution_count": 151,
     "metadata": {},
     "output_type": "execute_result"
    }
   ],
   "source": [
    "df.groupby('Geography')['Exited'].value_counts()"
   ]
  },
  {
   "cell_type": "code",
   "execution_count": 152,
   "id": "fc8aca17",
   "metadata": {
    "colab": {
     "base_uri": "https://localhost:8080/"
    },
    "id": "fc8aca17",
    "outputId": "28555e6d-d039-4106-f0c4-6509c2b039c6"
   },
   "outputs": [
    {
     "data": {
      "text/plain": [
       "Exited\n",
       "0    7963\n",
       "1    2037\n",
       "Name: count, dtype: int64"
      ]
     },
     "execution_count": 152,
     "metadata": {},
     "output_type": "execute_result"
    }
   ],
   "source": [
    "df.Exited.value_counts()"
   ]
  },
  {
   "cell_type": "code",
   "execution_count": 153,
   "id": "d6decb46",
   "metadata": {
    "id": "d6decb46"
   },
   "outputs": [],
   "source": [
    "df.to_csv('analytical_base_table.csv', index=None)"
   ]
  },
  {
   "cell_type": "code",
   "execution_count": 154,
   "id": "IDqAZ4-RUS7R",
   "metadata": {
    "colab": {
     "base_uri": "https://localhost:8080/"
    },
    "id": "IDqAZ4-RUS7R",
    "outputId": "2f5a9d33-00c8-44fe-f2c4-0798a9fdee6f"
   },
   "outputs": [
    {
     "name": "stdout",
     "output_type": "stream",
     "text": [
      "Requirement already satisfied: keras_tuner in /opt/homebrew/lib/python3.11/site-packages (1.4.5)\n",
      "Requirement already satisfied: keras-core in /opt/homebrew/lib/python3.11/site-packages (from keras_tuner) (0.1.7)\n",
      "Requirement already satisfied: packaging in /opt/homebrew/lib/python3.11/site-packages (from keras_tuner) (23.2)\n",
      "Requirement already satisfied: requests in /opt/homebrew/lib/python3.11/site-packages (from keras_tuner) (2.31.0)\n",
      "Requirement already satisfied: kt-legacy in /opt/homebrew/lib/python3.11/site-packages (from keras_tuner) (1.0.5)\n",
      "Requirement already satisfied: absl-py in /opt/homebrew/lib/python3.11/site-packages (from keras-core->keras_tuner) (2.0.0)\n",
      "Requirement already satisfied: numpy in /opt/homebrew/lib/python3.11/site-packages (from keras-core->keras_tuner) (1.26.1)\n",
      "Requirement already satisfied: rich in /opt/homebrew/lib/python3.11/site-packages (from keras-core->keras_tuner) (13.6.0)\n",
      "Requirement already satisfied: namex in /opt/homebrew/lib/python3.11/site-packages (from keras-core->keras_tuner) (0.0.7)\n",
      "Requirement already satisfied: h5py in /opt/homebrew/lib/python3.11/site-packages (from keras-core->keras_tuner) (3.10.0)\n",
      "Requirement already satisfied: dm-tree in /opt/homebrew/lib/python3.11/site-packages (from keras-core->keras_tuner) (0.1.8)\n",
      "Requirement already satisfied: charset-normalizer<4,>=2 in /opt/homebrew/lib/python3.11/site-packages (from requests->keras_tuner) (3.3.0)\n",
      "Requirement already satisfied: idna<4,>=2.5 in /opt/homebrew/lib/python3.11/site-packages (from requests->keras_tuner) (3.4)\n",
      "Requirement already satisfied: urllib3<3,>=1.21.1 in /opt/homebrew/lib/python3.11/site-packages (from requests->keras_tuner) (2.0.6)\n",
      "Requirement already satisfied: certifi>=2017.4.17 in /opt/homebrew/lib/python3.11/site-packages (from requests->keras_tuner) (2023.7.22)\n",
      "Requirement already satisfied: markdown-it-py>=2.2.0 in /opt/homebrew/lib/python3.11/site-packages (from rich->keras-core->keras_tuner) (3.0.0)\n",
      "Requirement already satisfied: pygments<3.0.0,>=2.13.0 in /opt/homebrew/lib/python3.11/site-packages (from rich->keras-core->keras_tuner) (2.16.1)\n",
      "Requirement already satisfied: mdurl~=0.1 in /opt/homebrew/lib/python3.11/site-packages (from markdown-it-py>=2.2.0->rich->keras-core->keras_tuner) (0.1.2)\n",
      "Note: you may need to restart the kernel to use updated packages.\n"
     ]
    }
   ],
   "source": [
    "pip install keras_tuner"
   ]
  },
  {
   "cell_type": "code",
   "execution_count": 155,
   "id": "776ad6f4",
   "metadata": {},
   "outputs": [
    {
     "name": "stdout",
     "output_type": "stream",
     "text": [
      "Requirement already satisfied: tensorflow in /opt/homebrew/lib/python3.11/site-packages (2.14.0)\n",
      "Requirement already satisfied: tensorflow-macos==2.14.0 in /opt/homebrew/lib/python3.11/site-packages (from tensorflow) (2.14.0)\n",
      "Requirement already satisfied: absl-py>=1.0.0 in /opt/homebrew/lib/python3.11/site-packages (from tensorflow-macos==2.14.0->tensorflow) (2.0.0)\n",
      "Requirement already satisfied: astunparse>=1.6.0 in /opt/homebrew/lib/python3.11/site-packages (from tensorflow-macos==2.14.0->tensorflow) (1.6.3)\n",
      "Requirement already satisfied: flatbuffers>=23.5.26 in /opt/homebrew/lib/python3.11/site-packages (from tensorflow-macos==2.14.0->tensorflow) (23.5.26)\n",
      "Requirement already satisfied: gast!=0.5.0,!=0.5.1,!=0.5.2,>=0.2.1 in /opt/homebrew/lib/python3.11/site-packages (from tensorflow-macos==2.14.0->tensorflow) (0.5.4)\n",
      "Requirement already satisfied: google-pasta>=0.1.1 in /opt/homebrew/lib/python3.11/site-packages (from tensorflow-macos==2.14.0->tensorflow) (0.2.0)\n",
      "Requirement already satisfied: h5py>=2.9.0 in /opt/homebrew/lib/python3.11/site-packages (from tensorflow-macos==2.14.0->tensorflow) (3.10.0)\n",
      "Requirement already satisfied: libclang>=13.0.0 in /opt/homebrew/lib/python3.11/site-packages (from tensorflow-macos==2.14.0->tensorflow) (16.0.6)\n",
      "Requirement already satisfied: ml-dtypes==0.2.0 in /opt/homebrew/lib/python3.11/site-packages (from tensorflow-macos==2.14.0->tensorflow) (0.2.0)\n",
      "Requirement already satisfied: numpy>=1.23.5 in /opt/homebrew/lib/python3.11/site-packages (from tensorflow-macos==2.14.0->tensorflow) (1.26.1)\n",
      "Requirement already satisfied: opt-einsum>=2.3.2 in /opt/homebrew/lib/python3.11/site-packages (from tensorflow-macos==2.14.0->tensorflow) (3.3.0)\n",
      "Requirement already satisfied: packaging in /opt/homebrew/lib/python3.11/site-packages (from tensorflow-macos==2.14.0->tensorflow) (23.2)\n",
      "Requirement already satisfied: protobuf!=4.21.0,!=4.21.1,!=4.21.2,!=4.21.3,!=4.21.4,!=4.21.5,<5.0.0dev,>=3.20.3 in /opt/homebrew/lib/python3.11/site-packages (from tensorflow-macos==2.14.0->tensorflow) (4.24.4)\n",
      "Requirement already satisfied: setuptools in /opt/homebrew/lib/python3.11/site-packages (from tensorflow-macos==2.14.0->tensorflow) (68.2.2)\n",
      "Requirement already satisfied: six>=1.12.0 in /opt/homebrew/lib/python3.11/site-packages (from tensorflow-macos==2.14.0->tensorflow) (1.16.0)\n",
      "Requirement already satisfied: termcolor>=1.1.0 in /opt/homebrew/lib/python3.11/site-packages (from tensorflow-macos==2.14.0->tensorflow) (2.3.0)\n",
      "Requirement already satisfied: typing-extensions>=3.6.6 in /opt/homebrew/lib/python3.11/site-packages (from tensorflow-macos==2.14.0->tensorflow) (4.8.0)\n",
      "Requirement already satisfied: wrapt<1.15,>=1.11.0 in /opt/homebrew/lib/python3.11/site-packages (from tensorflow-macos==2.14.0->tensorflow) (1.14.1)\n",
      "Requirement already satisfied: tensorflow-io-gcs-filesystem>=0.23.1 in /opt/homebrew/lib/python3.11/site-packages (from tensorflow-macos==2.14.0->tensorflow) (0.34.0)\n",
      "Requirement already satisfied: grpcio<2.0,>=1.24.3 in /opt/homebrew/lib/python3.11/site-packages (from tensorflow-macos==2.14.0->tensorflow) (1.59.0)\n",
      "Requirement already satisfied: tensorboard<2.15,>=2.14 in /opt/homebrew/lib/python3.11/site-packages (from tensorflow-macos==2.14.0->tensorflow) (2.14.1)\n",
      "Requirement already satisfied: tensorflow-estimator<2.15,>=2.14.0 in /opt/homebrew/lib/python3.11/site-packages (from tensorflow-macos==2.14.0->tensorflow) (2.14.0)\n",
      "Requirement already satisfied: keras<2.15,>=2.14.0 in /opt/homebrew/lib/python3.11/site-packages (from tensorflow-macos==2.14.0->tensorflow) (2.14.0)\n",
      "Requirement already satisfied: wheel<1.0,>=0.23.0 in /opt/homebrew/lib/python3.11/site-packages (from astunparse>=1.6.0->tensorflow-macos==2.14.0->tensorflow) (0.41.2)\n",
      "Requirement already satisfied: google-auth<3,>=1.6.3 in /opt/homebrew/lib/python3.11/site-packages (from tensorboard<2.15,>=2.14->tensorflow-macos==2.14.0->tensorflow) (2.23.3)\n",
      "Requirement already satisfied: google-auth-oauthlib<1.1,>=0.5 in /opt/homebrew/lib/python3.11/site-packages (from tensorboard<2.15,>=2.14->tensorflow-macos==2.14.0->tensorflow) (1.0.0)\n",
      "Requirement already satisfied: markdown>=2.6.8 in /opt/homebrew/lib/python3.11/site-packages (from tensorboard<2.15,>=2.14->tensorflow-macos==2.14.0->tensorflow) (3.5)\n",
      "Requirement already satisfied: requests<3,>=2.21.0 in /opt/homebrew/lib/python3.11/site-packages (from tensorboard<2.15,>=2.14->tensorflow-macos==2.14.0->tensorflow) (2.31.0)\n",
      "Requirement already satisfied: tensorboard-data-server<0.8.0,>=0.7.0 in /opt/homebrew/lib/python3.11/site-packages (from tensorboard<2.15,>=2.14->tensorflow-macos==2.14.0->tensorflow) (0.7.1)\n",
      "Requirement already satisfied: werkzeug>=1.0.1 in /opt/homebrew/lib/python3.11/site-packages (from tensorboard<2.15,>=2.14->tensorflow-macos==2.14.0->tensorflow) (3.0.0)\n",
      "Requirement already satisfied: cachetools<6.0,>=2.0.0 in /opt/homebrew/lib/python3.11/site-packages (from google-auth<3,>=1.6.3->tensorboard<2.15,>=2.14->tensorflow-macos==2.14.0->tensorflow) (5.3.1)\n",
      "Requirement already satisfied: pyasn1-modules>=0.2.1 in /opt/homebrew/lib/python3.11/site-packages (from google-auth<3,>=1.6.3->tensorboard<2.15,>=2.14->tensorflow-macos==2.14.0->tensorflow) (0.3.0)\n",
      "Requirement already satisfied: rsa<5,>=3.1.4 in /opt/homebrew/lib/python3.11/site-packages (from google-auth<3,>=1.6.3->tensorboard<2.15,>=2.14->tensorflow-macos==2.14.0->tensorflow) (4.9)\n",
      "Requirement already satisfied: requests-oauthlib>=0.7.0 in /opt/homebrew/lib/python3.11/site-packages (from google-auth-oauthlib<1.1,>=0.5->tensorboard<2.15,>=2.14->tensorflow-macos==2.14.0->tensorflow) (1.3.1)\n",
      "Requirement already satisfied: charset-normalizer<4,>=2 in /opt/homebrew/lib/python3.11/site-packages (from requests<3,>=2.21.0->tensorboard<2.15,>=2.14->tensorflow-macos==2.14.0->tensorflow) (3.3.0)\n",
      "Requirement already satisfied: idna<4,>=2.5 in /opt/homebrew/lib/python3.11/site-packages (from requests<3,>=2.21.0->tensorboard<2.15,>=2.14->tensorflow-macos==2.14.0->tensorflow) (3.4)\n",
      "Requirement already satisfied: urllib3<3,>=1.21.1 in /opt/homebrew/lib/python3.11/site-packages (from requests<3,>=2.21.0->tensorboard<2.15,>=2.14->tensorflow-macos==2.14.0->tensorflow) (2.0.6)\n",
      "Requirement already satisfied: certifi>=2017.4.17 in /opt/homebrew/lib/python3.11/site-packages (from requests<3,>=2.21.0->tensorboard<2.15,>=2.14->tensorflow-macos==2.14.0->tensorflow) (2023.7.22)\n",
      "Requirement already satisfied: MarkupSafe>=2.1.1 in /opt/homebrew/lib/python3.11/site-packages (from werkzeug>=1.0.1->tensorboard<2.15,>=2.14->tensorflow-macos==2.14.0->tensorflow) (2.1.3)\n",
      "Requirement already satisfied: pyasn1<0.6.0,>=0.4.6 in /opt/homebrew/lib/python3.11/site-packages (from pyasn1-modules>=0.2.1->google-auth<3,>=1.6.3->tensorboard<2.15,>=2.14->tensorflow-macos==2.14.0->tensorflow) (0.5.0)\n",
      "Requirement already satisfied: oauthlib>=3.0.0 in /opt/homebrew/lib/python3.11/site-packages (from requests-oauthlib>=0.7.0->google-auth-oauthlib<1.1,>=0.5->tensorboard<2.15,>=2.14->tensorflow-macos==2.14.0->tensorflow) (3.2.2)\n",
      "Note: you may need to restart the kernel to use updated packages.\n"
     ]
    }
   ],
   "source": [
    "pip install tensorflow"
   ]
  },
  {
   "cell_type": "code",
   "execution_count": 156,
   "id": "37d0f68d",
   "metadata": {
    "id": "37d0f68d"
   },
   "outputs": [],
   "source": [
    "import tensorflow as tf\n",
    "# from keras_tuner.tuners import RandomSearch"
   ]
  },
  {
   "cell_type": "code",
   "execution_count": 157,
   "id": "d3630544",
   "metadata": {
    "id": "d3630544"
   },
   "outputs": [],
   "source": [
    "df = pd.read_csv('analytical_base_table.csv')"
   ]
  },
  {
   "cell_type": "code",
   "execution_count": 158,
   "id": "4ec9c235",
   "metadata": {
    "colab": {
     "base_uri": "https://localhost:8080/",
     "height": 206
    },
    "id": "4ec9c235",
    "outputId": "1cdb7bec-a2b0-435c-d544-1792482b11b7"
   },
   "outputs": [
    {
     "data": {
      "text/html": [
       "<div>\n",
       "<style scoped>\n",
       "    .dataframe tbody tr th:only-of-type {\n",
       "        vertical-align: middle;\n",
       "    }\n",
       "\n",
       "    .dataframe tbody tr th {\n",
       "        vertical-align: top;\n",
       "    }\n",
       "\n",
       "    .dataframe thead th {\n",
       "        text-align: right;\n",
       "    }\n",
       "</style>\n",
       "<table border=\"1\" class=\"dataframe\">\n",
       "  <thead>\n",
       "    <tr style=\"text-align: right;\">\n",
       "      <th></th>\n",
       "      <th>CreditScore</th>\n",
       "      <th>Geography</th>\n",
       "      <th>Gender</th>\n",
       "      <th>Age</th>\n",
       "      <th>Tenure</th>\n",
       "      <th>Balance</th>\n",
       "      <th>NumOfProducts</th>\n",
       "      <th>HasCrCard</th>\n",
       "      <th>IsActiveMember</th>\n",
       "      <th>EstimatedSalary</th>\n",
       "      <th>Exited</th>\n",
       "    </tr>\n",
       "  </thead>\n",
       "  <tbody>\n",
       "    <tr>\n",
       "      <th>0</th>\n",
       "      <td>619</td>\n",
       "      <td>France</td>\n",
       "      <td>Female</td>\n",
       "      <td>42</td>\n",
       "      <td>2</td>\n",
       "      <td>0.00</td>\n",
       "      <td>1</td>\n",
       "      <td>1</td>\n",
       "      <td>1</td>\n",
       "      <td>101348.88</td>\n",
       "      <td>1</td>\n",
       "    </tr>\n",
       "    <tr>\n",
       "      <th>1</th>\n",
       "      <td>608</td>\n",
       "      <td>Spain</td>\n",
       "      <td>Female</td>\n",
       "      <td>41</td>\n",
       "      <td>1</td>\n",
       "      <td>83807.86</td>\n",
       "      <td>1</td>\n",
       "      <td>0</td>\n",
       "      <td>1</td>\n",
       "      <td>112542.58</td>\n",
       "      <td>0</td>\n",
       "    </tr>\n",
       "  </tbody>\n",
       "</table>\n",
       "</div>"
      ],
      "text/plain": [
       "   CreditScore Geography  Gender  Age  Tenure   Balance  NumOfProducts  \\\n",
       "0          619    France  Female   42       2      0.00              1   \n",
       "1          608     Spain  Female   41       1  83807.86              1   \n",
       "\n",
       "   HasCrCard  IsActiveMember  EstimatedSalary  Exited  \n",
       "0          1               1        101348.88       1  \n",
       "1          0               1        112542.58       0  "
      ]
     },
     "execution_count": 158,
     "metadata": {},
     "output_type": "execute_result"
    }
   ],
   "source": [
    "df.head(2)"
   ]
  },
  {
   "cell_type": "code",
   "execution_count": 159,
   "id": "KPsmOnIFVl1b",
   "metadata": {
    "colab": {
     "base_uri": "https://localhost:8080/"
    },
    "id": "KPsmOnIFVl1b",
    "outputId": "ed12470c-13d9-4e0e-8af2-1f10e16ab7bb"
   },
   "outputs": [
    {
     "data": {
      "text/plain": [
       "(10000, 10)"
      ]
     },
     "execution_count": 159,
     "metadata": {},
     "output_type": "execute_result"
    }
   ],
   "source": [
    "x=df.drop(['Exited'],axis=1)\n",
    "x.shape"
   ]
  },
  {
   "cell_type": "code",
   "execution_count": 160,
   "id": "EOhAcCPNVu8M",
   "metadata": {
    "colab": {
     "base_uri": "https://localhost:8080/"
    },
    "id": "EOhAcCPNVu8M",
    "outputId": "3d91defb-1b4d-4b5b-a23e-9b2aad8e896c"
   },
   "outputs": [
    {
     "data": {
      "text/plain": [
       "(10000,)"
      ]
     },
     "execution_count": 160,
     "metadata": {},
     "output_type": "execute_result"
    }
   ],
   "source": [
    "y=df['Exited']\n",
    "y.shape"
   ]
  },
  {
   "cell_type": "code",
   "execution_count": 161,
   "id": "0dc9f05e",
   "metadata": {},
   "outputs": [],
   "source": [
    "from sklearn.model_selection import train_test_split"
   ]
  },
  {
   "cell_type": "code",
   "execution_count": 162,
   "id": "c5ea4429",
   "metadata": {
    "id": "c5ea4429"
   },
   "outputs": [],
   "source": [
    "x_train,x_test,y_train,y_test = train_test_split(x,y,test_size=0.2,random_state=42,stratify=y)"
   ]
  },
  {
   "cell_type": "code",
   "execution_count": 163,
   "id": "a8a75ab3",
   "metadata": {
    "colab": {
     "base_uri": "https://localhost:8080/"
    },
    "id": "a8a75ab3",
    "outputId": "19a30366-bc49-4d63-ab09-252b016c74ba"
   },
   "outputs": [
    {
     "data": {
      "text/plain": [
       "((8000, 10), (2000, 10), (8000,), (2000,))"
      ]
     },
     "execution_count": 163,
     "metadata": {},
     "output_type": "execute_result"
    }
   ],
   "source": [
    "x_train.shape,x_test.shape,y_train.shape,y_test.shape"
   ]
  },
  {
   "cell_type": "code",
   "execution_count": 164,
   "id": "EPVYm3BBWEqL",
   "metadata": {
    "colab": {
     "base_uri": "https://localhost:8080/",
     "height": 206
    },
    "id": "EPVYm3BBWEqL",
    "outputId": "9a158b98-d27f-4ace-ef17-18e76b705550"
   },
   "outputs": [
    {
     "data": {
      "text/html": [
       "<div>\n",
       "<style scoped>\n",
       "    .dataframe tbody tr th:only-of-type {\n",
       "        vertical-align: middle;\n",
       "    }\n",
       "\n",
       "    .dataframe tbody tr th {\n",
       "        vertical-align: top;\n",
       "    }\n",
       "\n",
       "    .dataframe thead th {\n",
       "        text-align: right;\n",
       "    }\n",
       "</style>\n",
       "<table border=\"1\" class=\"dataframe\">\n",
       "  <thead>\n",
       "    <tr style=\"text-align: right;\">\n",
       "      <th></th>\n",
       "      <th>CreditScore</th>\n",
       "      <th>Geography</th>\n",
       "      <th>Gender</th>\n",
       "      <th>Age</th>\n",
       "      <th>Tenure</th>\n",
       "      <th>Balance</th>\n",
       "      <th>NumOfProducts</th>\n",
       "      <th>HasCrCard</th>\n",
       "      <th>IsActiveMember</th>\n",
       "      <th>EstimatedSalary</th>\n",
       "    </tr>\n",
       "  </thead>\n",
       "  <tbody>\n",
       "    <tr>\n",
       "      <th>2151</th>\n",
       "      <td>753</td>\n",
       "      <td>France</td>\n",
       "      <td>Male</td>\n",
       "      <td>57</td>\n",
       "      <td>7</td>\n",
       "      <td>0.00</td>\n",
       "      <td>1</td>\n",
       "      <td>1</td>\n",
       "      <td>0</td>\n",
       "      <td>159475.08</td>\n",
       "    </tr>\n",
       "    <tr>\n",
       "      <th>8392</th>\n",
       "      <td>739</td>\n",
       "      <td>Germany</td>\n",
       "      <td>Male</td>\n",
       "      <td>32</td>\n",
       "      <td>3</td>\n",
       "      <td>102128.27</td>\n",
       "      <td>1</td>\n",
       "      <td>1</td>\n",
       "      <td>0</td>\n",
       "      <td>63981.37</td>\n",
       "    </tr>\n",
       "  </tbody>\n",
       "</table>\n",
       "</div>"
      ],
      "text/plain": [
       "      CreditScore Geography Gender  Age  Tenure    Balance  NumOfProducts  \\\n",
       "2151          753    France   Male   57       7       0.00              1   \n",
       "8392          739   Germany   Male   32       3  102128.27              1   \n",
       "\n",
       "      HasCrCard  IsActiveMember  EstimatedSalary  \n",
       "2151          1               0        159475.08  \n",
       "8392          1               0         63981.37  "
      ]
     },
     "execution_count": 164,
     "metadata": {},
     "output_type": "execute_result"
    }
   ],
   "source": [
    "x_train.head(2)"
   ]
  },
  {
   "cell_type": "code",
   "execution_count": 165,
   "id": "ThBwEJy1WFhb",
   "metadata": {
    "id": "ThBwEJy1WFhb"
   },
   "outputs": [],
   "source": [
    "x_train.reset_index(drop=True,inplace=True)"
   ]
  },
  {
   "cell_type": "code",
   "execution_count": 166,
   "id": "ba4bqvWFW3H9",
   "metadata": {
    "colab": {
     "base_uri": "https://localhost:8080/",
     "height": 206
    },
    "id": "ba4bqvWFW3H9",
    "outputId": "d40891f2-69a9-4bbf-f904-dfa48e7a09db"
   },
   "outputs": [
    {
     "data": {
      "text/html": [
       "<div>\n",
       "<style scoped>\n",
       "    .dataframe tbody tr th:only-of-type {\n",
       "        vertical-align: middle;\n",
       "    }\n",
       "\n",
       "    .dataframe tbody tr th {\n",
       "        vertical-align: top;\n",
       "    }\n",
       "\n",
       "    .dataframe thead th {\n",
       "        text-align: right;\n",
       "    }\n",
       "</style>\n",
       "<table border=\"1\" class=\"dataframe\">\n",
       "  <thead>\n",
       "    <tr style=\"text-align: right;\">\n",
       "      <th></th>\n",
       "      <th>CreditScore</th>\n",
       "      <th>Geography</th>\n",
       "      <th>Gender</th>\n",
       "      <th>Age</th>\n",
       "      <th>Tenure</th>\n",
       "      <th>Balance</th>\n",
       "      <th>NumOfProducts</th>\n",
       "      <th>HasCrCard</th>\n",
       "      <th>IsActiveMember</th>\n",
       "      <th>EstimatedSalary</th>\n",
       "    </tr>\n",
       "  </thead>\n",
       "  <tbody>\n",
       "    <tr>\n",
       "      <th>0</th>\n",
       "      <td>753</td>\n",
       "      <td>France</td>\n",
       "      <td>Male</td>\n",
       "      <td>57</td>\n",
       "      <td>7</td>\n",
       "      <td>0.00</td>\n",
       "      <td>1</td>\n",
       "      <td>1</td>\n",
       "      <td>0</td>\n",
       "      <td>159475.08</td>\n",
       "    </tr>\n",
       "    <tr>\n",
       "      <th>1</th>\n",
       "      <td>739</td>\n",
       "      <td>Germany</td>\n",
       "      <td>Male</td>\n",
       "      <td>32</td>\n",
       "      <td>3</td>\n",
       "      <td>102128.27</td>\n",
       "      <td>1</td>\n",
       "      <td>1</td>\n",
       "      <td>0</td>\n",
       "      <td>63981.37</td>\n",
       "    </tr>\n",
       "  </tbody>\n",
       "</table>\n",
       "</div>"
      ],
      "text/plain": [
       "   CreditScore Geography Gender  Age  Tenure    Balance  NumOfProducts  \\\n",
       "0          753    France   Male   57       7       0.00              1   \n",
       "1          739   Germany   Male   32       3  102128.27              1   \n",
       "\n",
       "   HasCrCard  IsActiveMember  EstimatedSalary  \n",
       "0          1               0        159475.08  \n",
       "1          1               0         63981.37  "
      ]
     },
     "execution_count": 166,
     "metadata": {},
     "output_type": "execute_result"
    }
   ],
   "source": [
    "x_train.head(2)"
   ]
  },
  {
   "cell_type": "code",
   "execution_count": 167,
   "id": "9fcccf12",
   "metadata": {},
   "outputs": [],
   "source": [
    "from sklearn.preprocessing import OneHotEncoder"
   ]
  },
  {
   "cell_type": "code",
   "execution_count": 168,
   "id": "9Jg9EcA2WGMi",
   "metadata": {
    "id": "9Jg9EcA2WGMi"
   },
   "outputs": [],
   "source": [
    "ohe = OneHotEncoder(drop='first',sparse=False,handle_unknown='ignore')"
   ]
  },
  {
   "cell_type": "code",
   "execution_count": 169,
   "id": "FE0yDkDwWGSy",
   "metadata": {
    "colab": {
     "base_uri": "https://localhost:8080/"
    },
    "id": "FE0yDkDwWGSy",
    "outputId": "bed2f7a7-fe6b-4062-8063-2dabbec78667"
   },
   "outputs": [
    {
     "data": {
      "text/html": [
       "<style>#sk-container-id-4 {color: black;}#sk-container-id-4 pre{padding: 0;}#sk-container-id-4 div.sk-toggleable {background-color: white;}#sk-container-id-4 label.sk-toggleable__label {cursor: pointer;display: block;width: 100%;margin-bottom: 0;padding: 0.3em;box-sizing: border-box;text-align: center;}#sk-container-id-4 label.sk-toggleable__label-arrow:before {content: \"▸\";float: left;margin-right: 0.25em;color: #696969;}#sk-container-id-4 label.sk-toggleable__label-arrow:hover:before {color: black;}#sk-container-id-4 div.sk-estimator:hover label.sk-toggleable__label-arrow:before {color: black;}#sk-container-id-4 div.sk-toggleable__content {max-height: 0;max-width: 0;overflow: hidden;text-align: left;background-color: #f0f8ff;}#sk-container-id-4 div.sk-toggleable__content pre {margin: 0.2em;color: black;border-radius: 0.25em;background-color: #f0f8ff;}#sk-container-id-4 input.sk-toggleable__control:checked~div.sk-toggleable__content {max-height: 200px;max-width: 100%;overflow: auto;}#sk-container-id-4 input.sk-toggleable__control:checked~label.sk-toggleable__label-arrow:before {content: \"▾\";}#sk-container-id-4 div.sk-estimator input.sk-toggleable__control:checked~label.sk-toggleable__label {background-color: #d4ebff;}#sk-container-id-4 div.sk-label input.sk-toggleable__control:checked~label.sk-toggleable__label {background-color: #d4ebff;}#sk-container-id-4 input.sk-hidden--visually {border: 0;clip: rect(1px 1px 1px 1px);clip: rect(1px, 1px, 1px, 1px);height: 1px;margin: -1px;overflow: hidden;padding: 0;position: absolute;width: 1px;}#sk-container-id-4 div.sk-estimator {font-family: monospace;background-color: #f0f8ff;border: 1px dotted black;border-radius: 0.25em;box-sizing: border-box;margin-bottom: 0.5em;}#sk-container-id-4 div.sk-estimator:hover {background-color: #d4ebff;}#sk-container-id-4 div.sk-parallel-item::after {content: \"\";width: 100%;border-bottom: 1px solid gray;flex-grow: 1;}#sk-container-id-4 div.sk-label:hover label.sk-toggleable__label {background-color: #d4ebff;}#sk-container-id-4 div.sk-serial::before {content: \"\";position: absolute;border-left: 1px solid gray;box-sizing: border-box;top: 0;bottom: 0;left: 50%;z-index: 0;}#sk-container-id-4 div.sk-serial {display: flex;flex-direction: column;align-items: center;background-color: white;padding-right: 0.2em;padding-left: 0.2em;position: relative;}#sk-container-id-4 div.sk-item {position: relative;z-index: 1;}#sk-container-id-4 div.sk-parallel {display: flex;align-items: stretch;justify-content: center;background-color: white;position: relative;}#sk-container-id-4 div.sk-item::before, #sk-container-id-4 div.sk-parallel-item::before {content: \"\";position: absolute;border-left: 1px solid gray;box-sizing: border-box;top: 0;bottom: 0;left: 50%;z-index: -1;}#sk-container-id-4 div.sk-parallel-item {display: flex;flex-direction: column;z-index: 1;position: relative;background-color: white;}#sk-container-id-4 div.sk-parallel-item:first-child::after {align-self: flex-end;width: 50%;}#sk-container-id-4 div.sk-parallel-item:last-child::after {align-self: flex-start;width: 50%;}#sk-container-id-4 div.sk-parallel-item:only-child::after {width: 0;}#sk-container-id-4 div.sk-dashed-wrapped {border: 1px dashed gray;margin: 0 0.4em 0.5em 0.4em;box-sizing: border-box;padding-bottom: 0.4em;background-color: white;}#sk-container-id-4 div.sk-label label {font-family: monospace;font-weight: bold;display: inline-block;line-height: 1.2em;}#sk-container-id-4 div.sk-label-container {text-align: center;}#sk-container-id-4 div.sk-container {/* jupyter's `normalize.less` sets `[hidden] { display: none; }` but bootstrap.min.css set `[hidden] { display: none !important; }` so we also need the `!important` here to be able to override the default hidden behavior on the sphinx rendered scikit-learn.org. See: https://github.com/scikit-learn/scikit-learn/issues/21755 */display: inline-block !important;position: relative;}#sk-container-id-4 div.sk-text-repr-fallback {display: none;}</style><div id=\"sk-container-id-4\" class=\"sk-top-container\"><div class=\"sk-text-repr-fallback\"><pre>OneHotEncoder(drop=&#x27;first&#x27;, handle_unknown=&#x27;ignore&#x27;, sparse=False,\n",
       "              sparse_output=False)</pre><b>In a Jupyter environment, please rerun this cell to show the HTML representation or trust the notebook. <br />On GitHub, the HTML representation is unable to render, please try loading this page with nbviewer.org.</b></div><div class=\"sk-container\" hidden><div class=\"sk-item\"><div class=\"sk-estimator sk-toggleable\"><input class=\"sk-toggleable__control sk-hidden--visually\" id=\"sk-estimator-id-4\" type=\"checkbox\" checked><label for=\"sk-estimator-id-4\" class=\"sk-toggleable__label sk-toggleable__label-arrow\">OneHotEncoder</label><div class=\"sk-toggleable__content\"><pre>OneHotEncoder(drop=&#x27;first&#x27;, handle_unknown=&#x27;ignore&#x27;, sparse=False,\n",
       "              sparse_output=False)</pre></div></div></div></div></div>"
      ],
      "text/plain": [
       "OneHotEncoder(drop='first', handle_unknown='ignore', sparse=False,\n",
       "              sparse_output=False)"
      ]
     },
     "execution_count": 169,
     "metadata": {},
     "output_type": "execute_result"
    }
   ],
   "source": [
    "ohe.fit(x_train[['Gender','Geography']])"
   ]
  },
  {
   "cell_type": "code",
   "execution_count": 170,
   "id": "-b_lxrfAWGX6",
   "metadata": {
    "id": "-b_lxrfAWGX6"
   },
   "outputs": [],
   "source": [
    "x_train_encoded = ohe.transform(x_train[['Gender','Geography']])"
   ]
  },
  {
   "cell_type": "code",
   "execution_count": 171,
   "id": "H_Q7dv8sWGfr",
   "metadata": {
    "colab": {
     "base_uri": "https://localhost:8080/"
    },
    "id": "H_Q7dv8sWGfr",
    "outputId": "f0bed59b-fd14-4f51-b38e-e93b5e50d8d1"
   },
   "outputs": [
    {
     "data": {
      "text/plain": [
       "array([[1., 0., 0.],\n",
       "       [1., 1., 0.],\n",
       "       [0., 1., 0.],\n",
       "       ...,\n",
       "       [0., 0., 0.],\n",
       "       [1., 0., 1.],\n",
       "       [1., 0., 1.]])"
      ]
     },
     "execution_count": 171,
     "metadata": {},
     "output_type": "execute_result"
    }
   ],
   "source": [
    "x_train_encoded"
   ]
  },
  {
   "cell_type": "code",
   "execution_count": 172,
   "id": "UavFt8Y9WGmi",
   "metadata": {
    "colab": {
     "base_uri": "https://localhost:8080/",
     "height": 478
    },
    "id": "UavFt8Y9WGmi",
    "outputId": "a5994256-b231-41c3-92cf-723364236379"
   },
   "outputs": [
    {
     "data": {
      "text/html": [
       "<div>\n",
       "<style scoped>\n",
       "    .dataframe tbody tr th:only-of-type {\n",
       "        vertical-align: middle;\n",
       "    }\n",
       "\n",
       "    .dataframe tbody tr th {\n",
       "        vertical-align: top;\n",
       "    }\n",
       "\n",
       "    .dataframe thead th {\n",
       "        text-align: right;\n",
       "    }\n",
       "</style>\n",
       "<table border=\"1\" class=\"dataframe\">\n",
       "  <thead>\n",
       "    <tr style=\"text-align: right;\">\n",
       "      <th></th>\n",
       "      <th>Gender_Male</th>\n",
       "      <th>Geography_Germany</th>\n",
       "      <th>Geography_Spain</th>\n",
       "    </tr>\n",
       "  </thead>\n",
       "  <tbody>\n",
       "    <tr>\n",
       "      <th>0</th>\n",
       "      <td>1.0</td>\n",
       "      <td>0.0</td>\n",
       "      <td>0.0</td>\n",
       "    </tr>\n",
       "    <tr>\n",
       "      <th>1</th>\n",
       "      <td>1.0</td>\n",
       "      <td>1.0</td>\n",
       "      <td>0.0</td>\n",
       "    </tr>\n",
       "    <tr>\n",
       "      <th>2</th>\n",
       "      <td>0.0</td>\n",
       "      <td>1.0</td>\n",
       "      <td>0.0</td>\n",
       "    </tr>\n",
       "    <tr>\n",
       "      <th>3</th>\n",
       "      <td>1.0</td>\n",
       "      <td>0.0</td>\n",
       "      <td>0.0</td>\n",
       "    </tr>\n",
       "    <tr>\n",
       "      <th>4</th>\n",
       "      <td>1.0</td>\n",
       "      <td>1.0</td>\n",
       "      <td>0.0</td>\n",
       "    </tr>\n",
       "    <tr>\n",
       "      <th>...</th>\n",
       "      <td>...</td>\n",
       "      <td>...</td>\n",
       "      <td>...</td>\n",
       "    </tr>\n",
       "    <tr>\n",
       "      <th>7995</th>\n",
       "      <td>0.0</td>\n",
       "      <td>0.0</td>\n",
       "      <td>1.0</td>\n",
       "    </tr>\n",
       "    <tr>\n",
       "      <th>7996</th>\n",
       "      <td>1.0</td>\n",
       "      <td>0.0</td>\n",
       "      <td>1.0</td>\n",
       "    </tr>\n",
       "    <tr>\n",
       "      <th>7997</th>\n",
       "      <td>0.0</td>\n",
       "      <td>0.0</td>\n",
       "      <td>0.0</td>\n",
       "    </tr>\n",
       "    <tr>\n",
       "      <th>7998</th>\n",
       "      <td>1.0</td>\n",
       "      <td>0.0</td>\n",
       "      <td>1.0</td>\n",
       "    </tr>\n",
       "    <tr>\n",
       "      <th>7999</th>\n",
       "      <td>1.0</td>\n",
       "      <td>0.0</td>\n",
       "      <td>1.0</td>\n",
       "    </tr>\n",
       "  </tbody>\n",
       "</table>\n",
       "<p>8000 rows × 3 columns</p>\n",
       "</div>"
      ],
      "text/plain": [
       "      Gender_Male  Geography_Germany  Geography_Spain\n",
       "0             1.0                0.0              0.0\n",
       "1             1.0                1.0              0.0\n",
       "2             0.0                1.0              0.0\n",
       "3             1.0                0.0              0.0\n",
       "4             1.0                1.0              0.0\n",
       "...           ...                ...              ...\n",
       "7995          0.0                0.0              1.0\n",
       "7996          1.0                0.0              1.0\n",
       "7997          0.0                0.0              0.0\n",
       "7998          1.0                0.0              1.0\n",
       "7999          1.0                0.0              1.0\n",
       "\n",
       "[8000 rows x 3 columns]"
      ]
     },
     "execution_count": 172,
     "metadata": {},
     "output_type": "execute_result"
    }
   ],
   "source": [
    "x_train_new = pd.DataFrame(x_train_encoded, columns = ohe.get_feature_names_out(['Gender', 'Geography']))\n",
    "x_train_new"
   ]
  },
  {
   "cell_type": "code",
   "execution_count": 173,
   "id": "2x6GarKlZh2H",
   "metadata": {
    "colab": {
     "base_uri": "https://localhost:8080/",
     "height": 270
    },
    "id": "2x6GarKlZh2H",
    "outputId": "93b53dd3-f245-473a-e58e-712f6fac4921"
   },
   "outputs": [
    {
     "data": {
      "text/html": [
       "<div>\n",
       "<style scoped>\n",
       "    .dataframe tbody tr th:only-of-type {\n",
       "        vertical-align: middle;\n",
       "    }\n",
       "\n",
       "    .dataframe tbody tr th {\n",
       "        vertical-align: top;\n",
       "    }\n",
       "\n",
       "    .dataframe thead th {\n",
       "        text-align: right;\n",
       "    }\n",
       "</style>\n",
       "<table border=\"1\" class=\"dataframe\">\n",
       "  <thead>\n",
       "    <tr style=\"text-align: right;\">\n",
       "      <th></th>\n",
       "      <th>CreditScore</th>\n",
       "      <th>Geography</th>\n",
       "      <th>Gender</th>\n",
       "      <th>Age</th>\n",
       "      <th>Tenure</th>\n",
       "      <th>Balance</th>\n",
       "      <th>NumOfProducts</th>\n",
       "      <th>HasCrCard</th>\n",
       "      <th>IsActiveMember</th>\n",
       "      <th>EstimatedSalary</th>\n",
       "      <th>Gender_Male</th>\n",
       "      <th>Geography_Germany</th>\n",
       "      <th>Geography_Spain</th>\n",
       "    </tr>\n",
       "  </thead>\n",
       "  <tbody>\n",
       "    <tr>\n",
       "      <th>0</th>\n",
       "      <td>753</td>\n",
       "      <td>France</td>\n",
       "      <td>Male</td>\n",
       "      <td>57</td>\n",
       "      <td>7</td>\n",
       "      <td>0.00</td>\n",
       "      <td>1</td>\n",
       "      <td>1</td>\n",
       "      <td>0</td>\n",
       "      <td>159475.08</td>\n",
       "      <td>1.0</td>\n",
       "      <td>0.0</td>\n",
       "      <td>0.0</td>\n",
       "    </tr>\n",
       "    <tr>\n",
       "      <th>1</th>\n",
       "      <td>739</td>\n",
       "      <td>Germany</td>\n",
       "      <td>Male</td>\n",
       "      <td>32</td>\n",
       "      <td>3</td>\n",
       "      <td>102128.27</td>\n",
       "      <td>1</td>\n",
       "      <td>1</td>\n",
       "      <td>0</td>\n",
       "      <td>63981.37</td>\n",
       "      <td>1.0</td>\n",
       "      <td>1.0</td>\n",
       "      <td>0.0</td>\n",
       "    </tr>\n",
       "  </tbody>\n",
       "</table>\n",
       "</div>"
      ],
      "text/plain": [
       "   CreditScore Geography Gender  Age  Tenure    Balance  NumOfProducts  \\\n",
       "0          753    France   Male   57       7       0.00              1   \n",
       "1          739   Germany   Male   32       3  102128.27              1   \n",
       "\n",
       "   HasCrCard  IsActiveMember  EstimatedSalary  Gender_Male  Geography_Germany  \\\n",
       "0          1               0        159475.08          1.0                0.0   \n",
       "1          1               0         63981.37          1.0                1.0   \n",
       "\n",
       "   Geography_Spain  \n",
       "0              0.0  \n",
       "1              0.0  "
      ]
     },
     "execution_count": 173,
     "metadata": {},
     "output_type": "execute_result"
    }
   ],
   "source": [
    "x_train1 = pd.concat([x_train,x_train_new],axis=1)\n",
    "x_train1.head(2)"
   ]
  },
  {
   "cell_type": "code",
   "execution_count": 174,
   "id": "T0gAbL2haDuP",
   "metadata": {
    "colab": {
     "base_uri": "https://localhost:8080/"
    },
    "id": "T0gAbL2haDuP",
    "outputId": "5e6c5008-8865-4ee7-fb83-7662c3ac43ff"
   },
   "outputs": [
    {
     "data": {
      "text/plain": [
       "(8000, 11)"
      ]
     },
     "execution_count": 174,
     "metadata": {},
     "output_type": "execute_result"
    }
   ],
   "source": [
    "x_train1.drop(['Geography','Gender'],axis=1,inplace=True)\n",
    "x_train1.shape"
   ]
  },
  {
   "cell_type": "code",
   "execution_count": 175,
   "id": "xonZTxgUbl33",
   "metadata": {
    "colab": {
     "base_uri": "https://localhost:8080/",
     "height": 206
    },
    "id": "xonZTxgUbl33",
    "outputId": "0f20a395-ad81-4c6d-e769-84ba810e6888"
   },
   "outputs": [
    {
     "data": {
      "text/html": [
       "<div>\n",
       "<style scoped>\n",
       "    .dataframe tbody tr th:only-of-type {\n",
       "        vertical-align: middle;\n",
       "    }\n",
       "\n",
       "    .dataframe tbody tr th {\n",
       "        vertical-align: top;\n",
       "    }\n",
       "\n",
       "    .dataframe thead th {\n",
       "        text-align: right;\n",
       "    }\n",
       "</style>\n",
       "<table border=\"1\" class=\"dataframe\">\n",
       "  <thead>\n",
       "    <tr style=\"text-align: right;\">\n",
       "      <th></th>\n",
       "      <th>CreditScore</th>\n",
       "      <th>Geography</th>\n",
       "      <th>Gender</th>\n",
       "      <th>Age</th>\n",
       "      <th>Tenure</th>\n",
       "      <th>Balance</th>\n",
       "      <th>NumOfProducts</th>\n",
       "      <th>HasCrCard</th>\n",
       "      <th>IsActiveMember</th>\n",
       "      <th>EstimatedSalary</th>\n",
       "    </tr>\n",
       "  </thead>\n",
       "  <tbody>\n",
       "    <tr>\n",
       "      <th>5702</th>\n",
       "      <td>585</td>\n",
       "      <td>France</td>\n",
       "      <td>Male</td>\n",
       "      <td>36</td>\n",
       "      <td>7</td>\n",
       "      <td>0.00</td>\n",
       "      <td>2</td>\n",
       "      <td>1</td>\n",
       "      <td>0</td>\n",
       "      <td>94283.09</td>\n",
       "    </tr>\n",
       "    <tr>\n",
       "      <th>3667</th>\n",
       "      <td>525</td>\n",
       "      <td>Germany</td>\n",
       "      <td>Male</td>\n",
       "      <td>33</td>\n",
       "      <td>4</td>\n",
       "      <td>131023.76</td>\n",
       "      <td>2</td>\n",
       "      <td>0</td>\n",
       "      <td>0</td>\n",
       "      <td>55072.93</td>\n",
       "    </tr>\n",
       "  </tbody>\n",
       "</table>\n",
       "</div>"
      ],
      "text/plain": [
       "      CreditScore Geography Gender  Age  Tenure    Balance  NumOfProducts  \\\n",
       "5702          585    France   Male   36       7       0.00              2   \n",
       "3667          525   Germany   Male   33       4  131023.76              2   \n",
       "\n",
       "      HasCrCard  IsActiveMember  EstimatedSalary  \n",
       "5702          1               0         94283.09  \n",
       "3667          0               0         55072.93  "
      ]
     },
     "execution_count": 175,
     "metadata": {},
     "output_type": "execute_result"
    }
   ],
   "source": [
    "x_test.head(2)"
   ]
  },
  {
   "cell_type": "code",
   "execution_count": 176,
   "id": "_4belaaybqDl",
   "metadata": {
    "colab": {
     "base_uri": "https://localhost:8080/",
     "height": 206
    },
    "id": "_4belaaybqDl",
    "outputId": "8a99cdb3-1790-49cd-c9d0-4d002c4fe98e"
   },
   "outputs": [
    {
     "data": {
      "text/html": [
       "<div>\n",
       "<style scoped>\n",
       "    .dataframe tbody tr th:only-of-type {\n",
       "        vertical-align: middle;\n",
       "    }\n",
       "\n",
       "    .dataframe tbody tr th {\n",
       "        vertical-align: top;\n",
       "    }\n",
       "\n",
       "    .dataframe thead th {\n",
       "        text-align: right;\n",
       "    }\n",
       "</style>\n",
       "<table border=\"1\" class=\"dataframe\">\n",
       "  <thead>\n",
       "    <tr style=\"text-align: right;\">\n",
       "      <th></th>\n",
       "      <th>CreditScore</th>\n",
       "      <th>Geography</th>\n",
       "      <th>Gender</th>\n",
       "      <th>Age</th>\n",
       "      <th>Tenure</th>\n",
       "      <th>Balance</th>\n",
       "      <th>NumOfProducts</th>\n",
       "      <th>HasCrCard</th>\n",
       "      <th>IsActiveMember</th>\n",
       "      <th>EstimatedSalary</th>\n",
       "    </tr>\n",
       "  </thead>\n",
       "  <tbody>\n",
       "    <tr>\n",
       "      <th>0</th>\n",
       "      <td>585</td>\n",
       "      <td>France</td>\n",
       "      <td>Male</td>\n",
       "      <td>36</td>\n",
       "      <td>7</td>\n",
       "      <td>0.00</td>\n",
       "      <td>2</td>\n",
       "      <td>1</td>\n",
       "      <td>0</td>\n",
       "      <td>94283.09</td>\n",
       "    </tr>\n",
       "    <tr>\n",
       "      <th>1</th>\n",
       "      <td>525</td>\n",
       "      <td>Germany</td>\n",
       "      <td>Male</td>\n",
       "      <td>33</td>\n",
       "      <td>4</td>\n",
       "      <td>131023.76</td>\n",
       "      <td>2</td>\n",
       "      <td>0</td>\n",
       "      <td>0</td>\n",
       "      <td>55072.93</td>\n",
       "    </tr>\n",
       "  </tbody>\n",
       "</table>\n",
       "</div>"
      ],
      "text/plain": [
       "   CreditScore Geography Gender  Age  Tenure    Balance  NumOfProducts  \\\n",
       "0          585    France   Male   36       7       0.00              2   \n",
       "1          525   Germany   Male   33       4  131023.76              2   \n",
       "\n",
       "   HasCrCard  IsActiveMember  EstimatedSalary  \n",
       "0          1               0         94283.09  \n",
       "1          0               0         55072.93  "
      ]
     },
     "execution_count": 176,
     "metadata": {},
     "output_type": "execute_result"
    }
   ],
   "source": [
    "x_test.reset_index(drop=True,inplace=True)\n",
    "x_test.head(2)"
   ]
  },
  {
   "cell_type": "code",
   "execution_count": 177,
   "id": "VqTb-LPTYwYp",
   "metadata": {
    "colab": {
     "base_uri": "https://localhost:8080/",
     "height": 478
    },
    "id": "VqTb-LPTYwYp",
    "outputId": "014e81c5-7e0b-44ae-c7b8-bc63b1253dd1"
   },
   "outputs": [
    {
     "data": {
      "text/html": [
       "<div>\n",
       "<style scoped>\n",
       "    .dataframe tbody tr th:only-of-type {\n",
       "        vertical-align: middle;\n",
       "    }\n",
       "\n",
       "    .dataframe tbody tr th {\n",
       "        vertical-align: top;\n",
       "    }\n",
       "\n",
       "    .dataframe thead th {\n",
       "        text-align: right;\n",
       "    }\n",
       "</style>\n",
       "<table border=\"1\" class=\"dataframe\">\n",
       "  <thead>\n",
       "    <tr style=\"text-align: right;\">\n",
       "      <th></th>\n",
       "      <th>Gender_Male</th>\n",
       "      <th>Geography_Germany</th>\n",
       "      <th>Geography_Spain</th>\n",
       "    </tr>\n",
       "  </thead>\n",
       "  <tbody>\n",
       "    <tr>\n",
       "      <th>0</th>\n",
       "      <td>1.0</td>\n",
       "      <td>0.0</td>\n",
       "      <td>0.0</td>\n",
       "    </tr>\n",
       "    <tr>\n",
       "      <th>1</th>\n",
       "      <td>1.0</td>\n",
       "      <td>1.0</td>\n",
       "      <td>0.0</td>\n",
       "    </tr>\n",
       "    <tr>\n",
       "      <th>2</th>\n",
       "      <td>0.0</td>\n",
       "      <td>0.0</td>\n",
       "      <td>1.0</td>\n",
       "    </tr>\n",
       "    <tr>\n",
       "      <th>3</th>\n",
       "      <td>1.0</td>\n",
       "      <td>0.0</td>\n",
       "      <td>1.0</td>\n",
       "    </tr>\n",
       "    <tr>\n",
       "      <th>4</th>\n",
       "      <td>0.0</td>\n",
       "      <td>0.0</td>\n",
       "      <td>1.0</td>\n",
       "    </tr>\n",
       "    <tr>\n",
       "      <th>...</th>\n",
       "      <td>...</td>\n",
       "      <td>...</td>\n",
       "      <td>...</td>\n",
       "    </tr>\n",
       "    <tr>\n",
       "      <th>1995</th>\n",
       "      <td>1.0</td>\n",
       "      <td>0.0</td>\n",
       "      <td>0.0</td>\n",
       "    </tr>\n",
       "    <tr>\n",
       "      <th>1996</th>\n",
       "      <td>1.0</td>\n",
       "      <td>1.0</td>\n",
       "      <td>0.0</td>\n",
       "    </tr>\n",
       "    <tr>\n",
       "      <th>1997</th>\n",
       "      <td>0.0</td>\n",
       "      <td>1.0</td>\n",
       "      <td>0.0</td>\n",
       "    </tr>\n",
       "    <tr>\n",
       "      <th>1998</th>\n",
       "      <td>1.0</td>\n",
       "      <td>0.0</td>\n",
       "      <td>0.0</td>\n",
       "    </tr>\n",
       "    <tr>\n",
       "      <th>1999</th>\n",
       "      <td>1.0</td>\n",
       "      <td>0.0</td>\n",
       "      <td>0.0</td>\n",
       "    </tr>\n",
       "  </tbody>\n",
       "</table>\n",
       "<p>2000 rows × 3 columns</p>\n",
       "</div>"
      ],
      "text/plain": [
       "      Gender_Male  Geography_Germany  Geography_Spain\n",
       "0             1.0                0.0              0.0\n",
       "1             1.0                1.0              0.0\n",
       "2             0.0                0.0              1.0\n",
       "3             1.0                0.0              1.0\n",
       "4             0.0                0.0              1.0\n",
       "...           ...                ...              ...\n",
       "1995          1.0                0.0              0.0\n",
       "1996          1.0                1.0              0.0\n",
       "1997          0.0                1.0              0.0\n",
       "1998          1.0                0.0              0.0\n",
       "1999          1.0                0.0              0.0\n",
       "\n",
       "[2000 rows x 3 columns]"
      ]
     },
     "execution_count": 177,
     "metadata": {},
     "output_type": "execute_result"
    }
   ],
   "source": [
    "ohe.fit(x_test[['Gender','Geography']])\n",
    "x_test_encoded = ohe.transform(x_test[['Gender','Geography']])\n",
    "x_test_new = pd.DataFrame(x_test_encoded,columns=ohe.get_feature_names_out(['Gender','Geography']))\n",
    "x_test_new"
   ]
  },
  {
   "cell_type": "code",
   "execution_count": 178,
   "id": "bnEIAM3YYwfX",
   "metadata": {
    "colab": {
     "base_uri": "https://localhost:8080/",
     "height": 270
    },
    "id": "bnEIAM3YYwfX",
    "outputId": "f79805a2-97f9-4ec7-c7ce-ec0e89219316"
   },
   "outputs": [
    {
     "data": {
      "text/html": [
       "<div>\n",
       "<style scoped>\n",
       "    .dataframe tbody tr th:only-of-type {\n",
       "        vertical-align: middle;\n",
       "    }\n",
       "\n",
       "    .dataframe tbody tr th {\n",
       "        vertical-align: top;\n",
       "    }\n",
       "\n",
       "    .dataframe thead th {\n",
       "        text-align: right;\n",
       "    }\n",
       "</style>\n",
       "<table border=\"1\" class=\"dataframe\">\n",
       "  <thead>\n",
       "    <tr style=\"text-align: right;\">\n",
       "      <th></th>\n",
       "      <th>CreditScore</th>\n",
       "      <th>Geography</th>\n",
       "      <th>Gender</th>\n",
       "      <th>Age</th>\n",
       "      <th>Tenure</th>\n",
       "      <th>Balance</th>\n",
       "      <th>NumOfProducts</th>\n",
       "      <th>HasCrCard</th>\n",
       "      <th>IsActiveMember</th>\n",
       "      <th>EstimatedSalary</th>\n",
       "      <th>Gender_Male</th>\n",
       "      <th>Geography_Germany</th>\n",
       "      <th>Geography_Spain</th>\n",
       "    </tr>\n",
       "  </thead>\n",
       "  <tbody>\n",
       "    <tr>\n",
       "      <th>0</th>\n",
       "      <td>585</td>\n",
       "      <td>France</td>\n",
       "      <td>Male</td>\n",
       "      <td>36</td>\n",
       "      <td>7</td>\n",
       "      <td>0.00</td>\n",
       "      <td>2</td>\n",
       "      <td>1</td>\n",
       "      <td>0</td>\n",
       "      <td>94283.09</td>\n",
       "      <td>1.0</td>\n",
       "      <td>0.0</td>\n",
       "      <td>0.0</td>\n",
       "    </tr>\n",
       "    <tr>\n",
       "      <th>1</th>\n",
       "      <td>525</td>\n",
       "      <td>Germany</td>\n",
       "      <td>Male</td>\n",
       "      <td>33</td>\n",
       "      <td>4</td>\n",
       "      <td>131023.76</td>\n",
       "      <td>2</td>\n",
       "      <td>0</td>\n",
       "      <td>0</td>\n",
       "      <td>55072.93</td>\n",
       "      <td>1.0</td>\n",
       "      <td>1.0</td>\n",
       "      <td>0.0</td>\n",
       "    </tr>\n",
       "  </tbody>\n",
       "</table>\n",
       "</div>"
      ],
      "text/plain": [
       "   CreditScore Geography Gender  Age  Tenure    Balance  NumOfProducts  \\\n",
       "0          585    France   Male   36       7       0.00              2   \n",
       "1          525   Germany   Male   33       4  131023.76              2   \n",
       "\n",
       "   HasCrCard  IsActiveMember  EstimatedSalary  Gender_Male  Geography_Germany  \\\n",
       "0          1               0         94283.09          1.0                0.0   \n",
       "1          0               0         55072.93          1.0                1.0   \n",
       "\n",
       "   Geography_Spain  \n",
       "0              0.0  \n",
       "1              0.0  "
      ]
     },
     "execution_count": 178,
     "metadata": {},
     "output_type": "execute_result"
    }
   ],
   "source": [
    "x_test1 = pd.concat([x_test,x_test_new],axis=1)\n",
    "x_test1.head(2)"
   ]
  },
  {
   "cell_type": "code",
   "execution_count": 179,
   "id": "h5Jwep8dYwk8",
   "metadata": {
    "colab": {
     "base_uri": "https://localhost:8080/",
     "height": 206
    },
    "id": "h5Jwep8dYwk8",
    "outputId": "87c91c46-3c9c-4a20-eca5-6859c8eb5944"
   },
   "outputs": [
    {
     "data": {
      "text/html": [
       "<div>\n",
       "<style scoped>\n",
       "    .dataframe tbody tr th:only-of-type {\n",
       "        vertical-align: middle;\n",
       "    }\n",
       "\n",
       "    .dataframe tbody tr th {\n",
       "        vertical-align: top;\n",
       "    }\n",
       "\n",
       "    .dataframe thead th {\n",
       "        text-align: right;\n",
       "    }\n",
       "</style>\n",
       "<table border=\"1\" class=\"dataframe\">\n",
       "  <thead>\n",
       "    <tr style=\"text-align: right;\">\n",
       "      <th></th>\n",
       "      <th>CreditScore</th>\n",
       "      <th>Age</th>\n",
       "      <th>Tenure</th>\n",
       "      <th>Balance</th>\n",
       "      <th>NumOfProducts</th>\n",
       "      <th>HasCrCard</th>\n",
       "      <th>IsActiveMember</th>\n",
       "      <th>EstimatedSalary</th>\n",
       "      <th>Gender_Male</th>\n",
       "      <th>Geography_Germany</th>\n",
       "      <th>Geography_Spain</th>\n",
       "    </tr>\n",
       "  </thead>\n",
       "  <tbody>\n",
       "    <tr>\n",
       "      <th>0</th>\n",
       "      <td>585</td>\n",
       "      <td>36</td>\n",
       "      <td>7</td>\n",
       "      <td>0.00</td>\n",
       "      <td>2</td>\n",
       "      <td>1</td>\n",
       "      <td>0</td>\n",
       "      <td>94283.09</td>\n",
       "      <td>1.0</td>\n",
       "      <td>0.0</td>\n",
       "      <td>0.0</td>\n",
       "    </tr>\n",
       "    <tr>\n",
       "      <th>1</th>\n",
       "      <td>525</td>\n",
       "      <td>33</td>\n",
       "      <td>4</td>\n",
       "      <td>131023.76</td>\n",
       "      <td>2</td>\n",
       "      <td>0</td>\n",
       "      <td>0</td>\n",
       "      <td>55072.93</td>\n",
       "      <td>1.0</td>\n",
       "      <td>1.0</td>\n",
       "      <td>0.0</td>\n",
       "    </tr>\n",
       "    <tr>\n",
       "      <th>2</th>\n",
       "      <td>557</td>\n",
       "      <td>40</td>\n",
       "      <td>4</td>\n",
       "      <td>0.00</td>\n",
       "      <td>2</td>\n",
       "      <td>0</td>\n",
       "      <td>1</td>\n",
       "      <td>105433.53</td>\n",
       "      <td>0.0</td>\n",
       "      <td>0.0</td>\n",
       "      <td>1.0</td>\n",
       "    </tr>\n",
       "    <tr>\n",
       "      <th>3</th>\n",
       "      <td>639</td>\n",
       "      <td>34</td>\n",
       "      <td>5</td>\n",
       "      <td>139393.19</td>\n",
       "      <td>2</td>\n",
       "      <td>0</td>\n",
       "      <td>0</td>\n",
       "      <td>33950.08</td>\n",
       "      <td>1.0</td>\n",
       "      <td>0.0</td>\n",
       "      <td>1.0</td>\n",
       "    </tr>\n",
       "    <tr>\n",
       "      <th>4</th>\n",
       "      <td>640</td>\n",
       "      <td>34</td>\n",
       "      <td>3</td>\n",
       "      <td>77826.80</td>\n",
       "      <td>1</td>\n",
       "      <td>1</td>\n",
       "      <td>1</td>\n",
       "      <td>168544.85</td>\n",
       "      <td>0.0</td>\n",
       "      <td>0.0</td>\n",
       "      <td>1.0</td>\n",
       "    </tr>\n",
       "  </tbody>\n",
       "</table>\n",
       "</div>"
      ],
      "text/plain": [
       "   CreditScore  Age  Tenure    Balance  NumOfProducts  HasCrCard  \\\n",
       "0          585   36       7       0.00              2          1   \n",
       "1          525   33       4  131023.76              2          0   \n",
       "2          557   40       4       0.00              2          0   \n",
       "3          639   34       5  139393.19              2          0   \n",
       "4          640   34       3   77826.80              1          1   \n",
       "\n",
       "   IsActiveMember  EstimatedSalary  Gender_Male  Geography_Germany  \\\n",
       "0               0         94283.09          1.0                0.0   \n",
       "1               0         55072.93          1.0                1.0   \n",
       "2               1        105433.53          0.0                0.0   \n",
       "3               0         33950.08          1.0                0.0   \n",
       "4               1        168544.85          0.0                0.0   \n",
       "\n",
       "   Geography_Spain  \n",
       "0              0.0  \n",
       "1              0.0  \n",
       "2              1.0  \n",
       "3              1.0  \n",
       "4              1.0  "
      ]
     },
     "execution_count": 179,
     "metadata": {},
     "output_type": "execute_result"
    }
   ],
   "source": [
    "x_test1.drop(['Geography','Gender'],axis=1,inplace=True)\n",
    "x_test1.head()"
   ]
  },
  {
   "cell_type": "code",
   "execution_count": 180,
   "id": "S8jqUIUwjI-V",
   "metadata": {
    "id": "S8jqUIUwjI-V"
   },
   "outputs": [],
   "source": [
    "from sklearn.preprocessing import MinMaxScaler"
   ]
  },
  {
   "cell_type": "code",
   "execution_count": 181,
   "id": "1hOWNnHkjJDU",
   "metadata": {
    "id": "1hOWNnHkjJDU"
   },
   "outputs": [],
   "source": [
    "sc = MinMaxScaler()\n",
    "sc.fit(x_train1)\n",
    "x_train1_sc = sc.transform(x_train1)\n",
    "x_test1_sc = sc.transform(x_test1)"
   ]
  },
  {
   "cell_type": "code",
   "execution_count": 182,
   "id": "i5l5JKVTjJIN",
   "metadata": {
    "colab": {
     "base_uri": "https://localhost:8080/"
    },
    "id": "i5l5JKVTjJIN",
    "outputId": "8f305857-399b-472e-b8a8-a84c8edc1de0"
   },
   "outputs": [
    {
     "data": {
      "text/plain": [
       "(8000, 11)"
      ]
     },
     "execution_count": 182,
     "metadata": {},
     "output_type": "execute_result"
    }
   ],
   "source": [
    "x_train1_sc.shape"
   ]
  },
  {
   "cell_type": "code",
   "execution_count": 183,
   "id": "Zuoqcuiem6Zu",
   "metadata": {
    "colab": {
     "base_uri": "https://localhost:8080/"
    },
    "id": "Zuoqcuiem6Zu",
    "outputId": "4cc1c8cb-a78d-4543-e6cd-4ec9f6f14bf8"
   },
   "outputs": [
    {
     "data": {
      "text/plain": [
       "numpy.ndarray"
      ]
     },
     "execution_count": 183,
     "metadata": {},
     "output_type": "execute_result"
    }
   ],
   "source": [
    "type(x_train1_sc)"
   ]
  },
  {
   "cell_type": "code",
   "execution_count": 184,
   "id": "nk1L3JDTYwpn",
   "metadata": {
    "id": "nk1L3JDTYwpn"
   },
   "outputs": [],
   "source": [
    "import tensorflow.keras as tk"
   ]
  },
  {
   "cell_type": "code",
   "execution_count": 185,
   "id": "Jdq05qesYwuX",
   "metadata": {
    "id": "Jdq05qesYwuX"
   },
   "outputs": [],
   "source": [
    "# instantiate the model\n",
    "model = tk.Sequential()"
   ]
  },
  {
   "cell_type": "code",
   "execution_count": 186,
   "id": "6lUFsq4VYwy3",
   "metadata": {
    "id": "6lUFsq4VYwy3"
   },
   "outputs": [],
   "source": [
    "# Adding the input layer\n",
    "model.add(tk.layers.Input(shape=(11,)))\n",
    "# Adding the first hidden layer\n",
    "model.add(tk.layers.Dense(units=6,activation='relu',kernel_initializer='he_uniform'))\n",
    "# Adding the second hidden layer\n",
    "model.add(tk.layers.Dense(units=6,activation='relu',kernel_initializer='he_uniform'))\n",
    "# Adding the output layer\n",
    "model.add(tk.layers.Dense(units=1,activation='sigmoid',kernel_initializer='glorot_uniform'))"
   ]
  },
  {
   "cell_type": "code",
   "execution_count": 187,
   "id": "UicgBJUyc1ht",
   "metadata": {
    "id": "UicgBJUyc1ht"
   },
   "outputs": [],
   "source": [
    "# Compiling the model\n",
    "model.compile(optimizer='Adam',loss='binary_crossentropy',metrics=['Precision','accuracy'])"
   ]
  },
  {
   "cell_type": "code",
   "execution_count": 188,
   "id": "d2693a0b",
   "metadata": {},
   "outputs": [
    {
     "name": "stdout",
     "output_type": "stream",
     "text": [
      "Model: \"sequential\"\n",
      "_________________________________________________________________\n",
      " Layer (type)                Output Shape              Param #   \n",
      "=================================================================\n",
      " dense (Dense)               (None, 6)                 72        \n",
      "                                                                 \n",
      " dense_1 (Dense)             (None, 6)                 42        \n",
      "                                                                 \n",
      " dense_2 (Dense)             (None, 1)                 7         \n",
      "                                                                 \n",
      "=================================================================\n",
      "Total params: 121 (484.00 Byte)\n",
      "Trainable params: 121 (484.00 Byte)\n",
      "Non-trainable params: 0 (0.00 Byte)\n",
      "_________________________________________________________________\n"
     ]
    }
   ],
   "source": [
    "model.summary()"
   ]
  },
  {
   "cell_type": "code",
   "execution_count": 189,
   "id": "1OuSqotnc1oS",
   "metadata": {
    "colab": {
     "base_uri": "https://localhost:8080/"
    },
    "id": "1OuSqotnc1oS",
    "outputId": "ddf334d5-4658-4e1a-993d-a0d3c2263a1e"
   },
   "outputs": [
    {
     "name": "stdout",
     "output_type": "stream",
     "text": [
      "Model: \"sequential\"\n",
      "_________________________________________________________________\n",
      " Layer (type)                Output Shape              Param #   \n",
      "=================================================================\n",
      " dense (Dense)               (None, 6)                 72        \n",
      "                                                                 \n",
      " dense_1 (Dense)             (None, 6)                 42        \n",
      "                                                                 \n",
      " dense_2 (Dense)             (None, 1)                 7         \n",
      "                                                                 \n",
      "=================================================================\n",
      "Total params: 121 (484.00 Byte)\n",
      "Trainable params: 121 (484.00 Byte)\n",
      "Non-trainable params: 0 (0.00 Byte)\n",
      "_________________________________________________________________\n"
     ]
    }
   ],
   "source": [
    "model.summary()"
   ]
  },
  {
   "cell_type": "code",
   "execution_count": 190,
   "id": "uBq-IsXup2cR",
   "metadata": {
    "colab": {
     "base_uri": "https://localhost:8080/"
    },
    "id": "uBq-IsXup2cR",
    "outputId": "8500ff73-0017-44fb-aafc-6525e42e483c"
   },
   "outputs": [
    {
     "data": {
      "text/plain": [
       "((8000, 11), (2000, 11), (8000,), (2000,))"
      ]
     },
     "execution_count": 190,
     "metadata": {},
     "output_type": "execute_result"
    }
   ],
   "source": [
    "x_train1_sc.shape,x_test1_sc.shape,y_train.shape,y_test.shape"
   ]
  },
  {
   "cell_type": "code",
   "execution_count": 191,
   "id": "WBxUbe_LoyUP",
   "metadata": {
    "id": "WBxUbe_LoyUP"
   },
   "outputs": [],
   "source": [
    "import time"
   ]
  },
  {
   "cell_type": "code",
   "execution_count": 192,
   "id": "f99215e3",
   "metadata": {},
   "outputs": [
    {
     "name": "stdout",
     "output_type": "stream",
     "text": [
      "Epoch 1/100\n",
      "250/250 [==============================] - 0s 828us/step - loss: 0.6650 - precision: 0.1294 - accuracy: 0.6474 - val_loss: 0.5698 - val_precision: 0.0000e+00 - val_accuracy: 0.7965\n",
      "Epoch 2/100\n",
      "250/250 [==============================] - 0s 483us/step - loss: 0.5300 - precision: 0.0000e+00 - accuracy: 0.7962 - val_loss: 0.5069 - val_precision: 0.0000e+00 - val_accuracy: 0.7965\n",
      "Epoch 3/100\n",
      "250/250 [==============================] - 0s 508us/step - loss: 0.4936 - precision: 0.0000e+00 - accuracy: 0.7962 - val_loss: 0.4866 - val_precision: 0.0000e+00 - val_accuracy: 0.7965\n",
      "Epoch 4/100\n",
      "250/250 [==============================] - 0s 508us/step - loss: 0.4703 - precision: 0.0000e+00 - accuracy: 0.7962 - val_loss: 0.4684 - val_precision: 0.0000e+00 - val_accuracy: 0.7965\n",
      "Epoch 5/100\n",
      "250/250 [==============================] - 0s 498us/step - loss: 0.4576 - precision: 0.0000e+00 - accuracy: 0.7962 - val_loss: 0.4593 - val_precision: 0.0000e+00 - val_accuracy: 0.7965\n",
      "Epoch 6/100\n",
      "250/250 [==============================] - 0s 501us/step - loss: 0.4510 - precision: 0.0000e+00 - accuracy: 0.7962 - val_loss: 0.4521 - val_precision: 0.0000e+00 - val_accuracy: 0.7965\n",
      "Epoch 7/100\n",
      "250/250 [==============================] - 0s 498us/step - loss: 0.4459 - precision: 0.7143 - accuracy: 0.8011 - val_loss: 0.4483 - val_precision: 0.6234 - val_accuracy: 0.8060\n",
      "Epoch 8/100\n",
      "250/250 [==============================] - 0s 511us/step - loss: 0.4417 - precision: 0.6479 - accuracy: 0.8067 - val_loss: 0.4438 - val_precision: 0.6203 - val_accuracy: 0.8060\n",
      "Epoch 9/100\n",
      "250/250 [==============================] - 0s 501us/step - loss: 0.4389 - precision: 0.6399 - accuracy: 0.8098 - val_loss: 0.4406 - val_precision: 0.6308 - val_accuracy: 0.8135\n",
      "Epoch 10/100\n",
      "250/250 [==============================] - 0s 494us/step - loss: 0.4360 - precision: 0.6347 - accuracy: 0.8131 - val_loss: 0.4385 - val_precision: 0.5723 - val_accuracy: 0.8080\n",
      "Epoch 11/100\n",
      "250/250 [==============================] - 0s 480us/step - loss: 0.4331 - precision: 0.6115 - accuracy: 0.8123 - val_loss: 0.4350 - val_precision: 0.6357 - val_accuracy: 0.8155\n",
      "Epoch 12/100\n",
      "250/250 [==============================] - 0s 483us/step - loss: 0.4309 - precision: 0.6190 - accuracy: 0.8138 - val_loss: 0.4322 - val_precision: 0.6333 - val_accuracy: 0.8165\n",
      "Epoch 13/100\n",
      "250/250 [==============================] - 0s 481us/step - loss: 0.4292 - precision: 0.6163 - accuracy: 0.8138 - val_loss: 0.4294 - val_precision: 0.6449 - val_accuracy: 0.8165\n",
      "Epoch 14/100\n",
      "250/250 [==============================] - 0s 485us/step - loss: 0.4273 - precision: 0.6191 - accuracy: 0.8146 - val_loss: 0.4281 - val_precision: 0.6369 - val_accuracy: 0.8180\n",
      "Epoch 15/100\n",
      "250/250 [==============================] - 0s 498us/step - loss: 0.4266 - precision: 0.6219 - accuracy: 0.8158 - val_loss: 0.4268 - val_precision: 0.6589 - val_accuracy: 0.8170\n",
      "Epoch 16/100\n",
      "250/250 [==============================] - 0s 501us/step - loss: 0.4252 - precision: 0.6244 - accuracy: 0.8159 - val_loss: 0.4261 - val_precision: 0.6185 - val_accuracy: 0.8170\n",
      "Epoch 17/100\n",
      "250/250 [==============================] - 0s 509us/step - loss: 0.4243 - precision: 0.6200 - accuracy: 0.8164 - val_loss: 0.4244 - val_precision: 0.6387 - val_accuracy: 0.8180\n",
      "Epoch 18/100\n",
      "250/250 [==============================] - 0s 511us/step - loss: 0.4235 - precision: 0.6350 - accuracy: 0.8183 - val_loss: 0.4237 - val_precision: 0.6258 - val_accuracy: 0.8160\n",
      "Epoch 19/100\n",
      "250/250 [==============================] - 0s 501us/step - loss: 0.4233 - precision: 0.6304 - accuracy: 0.8181 - val_loss: 0.4228 - val_precision: 0.6352 - val_accuracy: 0.8180\n",
      "Epoch 20/100\n",
      "250/250 [==============================] - 0s 499us/step - loss: 0.4221 - precision: 0.6374 - accuracy: 0.8194 - val_loss: 0.4229 - val_precision: 0.6301 - val_accuracy: 0.8190\n",
      "Epoch 21/100\n",
      "250/250 [==============================] - 0s 494us/step - loss: 0.4218 - precision: 0.6272 - accuracy: 0.8180 - val_loss: 0.4216 - val_precision: 0.6375 - val_accuracy: 0.8185\n",
      "Epoch 22/100\n",
      "250/250 [==============================] - 0s 489us/step - loss: 0.4208 - precision: 0.6365 - accuracy: 0.8196 - val_loss: 0.4217 - val_precision: 0.6617 - val_accuracy: 0.8180\n",
      "Epoch 23/100\n",
      "250/250 [==============================] - 0s 483us/step - loss: 0.4209 - precision: 0.6480 - accuracy: 0.8206 - val_loss: 0.4202 - val_precision: 0.6474 - val_accuracy: 0.8195\n",
      "Epoch 24/100\n",
      "250/250 [==============================] - 0s 487us/step - loss: 0.4198 - precision: 0.6421 - accuracy: 0.8217 - val_loss: 0.4206 - val_precision: 0.6393 - val_accuracy: 0.8220\n",
      "Epoch 25/100\n",
      "250/250 [==============================] - 0s 493us/step - loss: 0.4196 - precision: 0.6406 - accuracy: 0.8210 - val_loss: 0.4191 - val_precision: 0.6453 - val_accuracy: 0.8215\n",
      "Epoch 26/100\n",
      "250/250 [==============================] - 0s 504us/step - loss: 0.4185 - precision: 0.6373 - accuracy: 0.8204 - val_loss: 0.4203 - val_precision: 0.6557 - val_accuracy: 0.8155\n",
      "Epoch 27/100\n",
      "250/250 [==============================] - 0s 498us/step - loss: 0.4185 - precision: 0.6428 - accuracy: 0.8211 - val_loss: 0.4173 - val_precision: 0.6625 - val_accuracy: 0.8225\n",
      "Epoch 28/100\n",
      "250/250 [==============================] - 0s 499us/step - loss: 0.4177 - precision: 0.6486 - accuracy: 0.8223 - val_loss: 0.4173 - val_precision: 0.6409 - val_accuracy: 0.8220\n",
      "Epoch 29/100\n",
      "250/250 [==============================] - 0s 495us/step - loss: 0.4170 - precision: 0.6593 - accuracy: 0.8251 - val_loss: 0.4156 - val_precision: 0.6477 - val_accuracy: 0.8225\n",
      "Epoch 30/100\n",
      "250/250 [==============================] - 0s 501us/step - loss: 0.4168 - precision: 0.6429 - accuracy: 0.8227 - val_loss: 0.4153 - val_precision: 0.6543 - val_accuracy: 0.8215\n",
      "Epoch 31/100\n",
      "250/250 [==============================] - 0s 494us/step - loss: 0.4158 - precision: 0.6526 - accuracy: 0.8234 - val_loss: 0.4147 - val_precision: 0.6828 - val_accuracy: 0.8230\n",
      "Epoch 32/100\n",
      "250/250 [==============================] - 0s 489us/step - loss: 0.4149 - precision: 0.6560 - accuracy: 0.8242 - val_loss: 0.4141 - val_precision: 0.6765 - val_accuracy: 0.8265\n",
      "Epoch 33/100\n",
      "250/250 [==============================] - 0s 484us/step - loss: 0.4144 - precision: 0.6648 - accuracy: 0.8259 - val_loss: 0.4127 - val_precision: 0.6871 - val_accuracy: 0.8270\n",
      "Epoch 34/100\n",
      "250/250 [==============================] - 0s 505us/step - loss: 0.4140 - precision: 0.6765 - accuracy: 0.8278 - val_loss: 0.4121 - val_precision: 0.7006 - val_accuracy: 0.8280\n",
      "Epoch 35/100\n",
      "250/250 [==============================] - 0s 507us/step - loss: 0.4135 - precision: 0.6815 - accuracy: 0.8269 - val_loss: 0.4125 - val_precision: 0.6742 - val_accuracy: 0.8275\n",
      "Epoch 36/100\n",
      "250/250 [==============================] - 0s 499us/step - loss: 0.4136 - precision: 0.6869 - accuracy: 0.8279 - val_loss: 0.4108 - val_precision: 0.7379 - val_accuracy: 0.8310\n",
      "Epoch 37/100\n",
      "250/250 [==============================] - 0s 508us/step - loss: 0.4132 - precision: 0.7035 - accuracy: 0.8307 - val_loss: 0.4099 - val_precision: 0.7160 - val_accuracy: 0.8315\n",
      "Epoch 38/100\n",
      "250/250 [==============================] - 0s 502us/step - loss: 0.4119 - precision: 0.7046 - accuracy: 0.8309 - val_loss: 0.4094 - val_precision: 0.7160 - val_accuracy: 0.8330\n",
      "Epoch 39/100\n",
      "250/250 [==============================] - 0s 497us/step - loss: 0.4115 - precision: 0.7062 - accuracy: 0.8298 - val_loss: 0.4100 - val_precision: 0.6771 - val_accuracy: 0.8305\n",
      "Epoch 40/100\n",
      "250/250 [==============================] - 0s 493us/step - loss: 0.4113 - precision: 0.7019 - accuracy: 0.8306 - val_loss: 0.4093 - val_precision: 0.7256 - val_accuracy: 0.8335\n",
      "Epoch 41/100\n",
      "250/250 [==============================] - 0s 474us/step - loss: 0.4103 - precision: 0.7088 - accuracy: 0.8317 - val_loss: 0.4093 - val_precision: 0.7088 - val_accuracy: 0.8345\n",
      "Epoch 42/100\n",
      "250/250 [==============================] - 0s 479us/step - loss: 0.4100 - precision: 0.7080 - accuracy: 0.8303 - val_loss: 0.4077 - val_precision: 0.7423 - val_accuracy: 0.8360\n",
      "Epoch 43/100\n",
      "250/250 [==============================] - 0s 474us/step - loss: 0.4100 - precision: 0.7103 - accuracy: 0.8316 - val_loss: 0.4082 - val_precision: 0.7184 - val_accuracy: 0.8345\n",
      "Epoch 44/100\n",
      "250/250 [==============================] - 0s 475us/step - loss: 0.4099 - precision: 0.7077 - accuracy: 0.8313 - val_loss: 0.4076 - val_precision: 0.7533 - val_accuracy: 0.8345\n",
      "Epoch 45/100\n",
      "250/250 [==============================] - 0s 484us/step - loss: 0.4095 - precision: 0.7165 - accuracy: 0.8317 - val_loss: 0.4070 - val_precision: 0.7595 - val_accuracy: 0.8375\n",
      "Epoch 46/100\n",
      "250/250 [==============================] - 0s 485us/step - loss: 0.4093 - precision: 0.7175 - accuracy: 0.8326 - val_loss: 0.4074 - val_precision: 0.7159 - val_accuracy: 0.8345\n",
      "Epoch 47/100\n",
      "250/250 [==============================] - 0s 492us/step - loss: 0.4083 - precision: 0.7233 - accuracy: 0.8334 - val_loss: 0.4082 - val_precision: 0.7652 - val_accuracy: 0.8315\n",
      "Epoch 48/100\n",
      "250/250 [==============================] - 0s 486us/step - loss: 0.4087 - precision: 0.7231 - accuracy: 0.8341 - val_loss: 0.4067 - val_precision: 0.7391 - val_accuracy: 0.8350\n",
      "Epoch 49/100\n",
      "250/250 [==============================] - 0s 498us/step - loss: 0.4081 - precision: 0.7282 - accuracy: 0.8336 - val_loss: 0.4065 - val_precision: 0.7687 - val_accuracy: 0.8360\n",
      "Epoch 50/100\n",
      "250/250 [==============================] - 0s 489us/step - loss: 0.4077 - precision: 0.7385 - accuracy: 0.8353 - val_loss: 0.4063 - val_precision: 0.7299 - val_accuracy: 0.8365\n",
      "Epoch 51/100\n",
      "250/250 [==============================] - 0s 496us/step - loss: 0.4076 - precision: 0.7308 - accuracy: 0.8338 - val_loss: 0.4070 - val_precision: 0.6939 - val_accuracy: 0.8345\n",
      "Epoch 52/100\n",
      "250/250 [==============================] - 0s 488us/step - loss: 0.4076 - precision: 0.7240 - accuracy: 0.8334 - val_loss: 0.4051 - val_precision: 0.7671 - val_accuracy: 0.8355\n",
      "Epoch 53/100\n",
      "250/250 [==============================] - 0s 481us/step - loss: 0.4063 - precision: 0.7316 - accuracy: 0.8349 - val_loss: 0.4059 - val_precision: 0.7000 - val_accuracy: 0.8345\n",
      "Epoch 54/100\n",
      "250/250 [==============================] - 0s 494us/step - loss: 0.4069 - precision: 0.7196 - accuracy: 0.8332 - val_loss: 0.4047 - val_precision: 0.7548 - val_accuracy: 0.8360\n",
      "Epoch 55/100\n",
      "250/250 [==============================] - 0s 490us/step - loss: 0.4075 - precision: 0.7323 - accuracy: 0.8340 - val_loss: 0.4063 - val_precision: 0.7135 - val_accuracy: 0.8360\n",
      "Epoch 56/100\n",
      "250/250 [==============================] - 0s 493us/step - loss: 0.4068 - precision: 0.7240 - accuracy: 0.8340 - val_loss: 0.4041 - val_precision: 0.7425 - val_accuracy: 0.8370\n",
      "Epoch 57/100\n",
      "250/250 [==============================] - 0s 500us/step - loss: 0.4066 - precision: 0.7285 - accuracy: 0.8335 - val_loss: 0.4050 - val_precision: 0.7817 - val_accuracy: 0.8365\n",
      "Epoch 58/100\n",
      "250/250 [==============================] - 0s 498us/step - loss: 0.4062 - precision: 0.7374 - accuracy: 0.8351 - val_loss: 0.4047 - val_precision: 0.7341 - val_accuracy: 0.8370\n",
      "Epoch 59/100\n",
      "250/250 [==============================] - 0s 490us/step - loss: 0.4056 - precision: 0.7342 - accuracy: 0.8353 - val_loss: 0.4069 - val_precision: 0.7969 - val_accuracy: 0.8345\n",
      "Epoch 60/100\n",
      "250/250 [==============================] - 0s 491us/step - loss: 0.4055 - precision: 0.7406 - accuracy: 0.8347 - val_loss: 0.4044 - val_precision: 0.7651 - val_accuracy: 0.8360\n",
      "Epoch 61/100\n",
      "250/250 [==============================] - 0s 494us/step - loss: 0.4067 - precision: 0.7337 - accuracy: 0.8349 - val_loss: 0.4049 - val_precision: 0.7755 - val_accuracy: 0.8370\n",
      "Epoch 62/100\n",
      "250/250 [==============================] - 0s 491us/step - loss: 0.4055 - precision: 0.7419 - accuracy: 0.8354 - val_loss: 0.4051 - val_precision: 0.7832 - val_accuracy: 0.8370\n",
      "Epoch 63/100\n",
      "250/250 [==============================] - 0s 491us/step - loss: 0.4053 - precision: 0.7500 - accuracy: 0.8367 - val_loss: 0.4050 - val_precision: 0.7793 - val_accuracy: 0.8370\n",
      "Epoch 64/100\n",
      "250/250 [==============================] - 0s 490us/step - loss: 0.4053 - precision: 0.7288 - accuracy: 0.8346 - val_loss: 0.4043 - val_precision: 0.7742 - val_accuracy: 0.8390\n",
      "Epoch 65/100\n",
      "250/250 [==============================] - 0s 496us/step - loss: 0.4050 - precision: 0.7320 - accuracy: 0.8350 - val_loss: 0.4042 - val_precision: 0.7688 - val_accuracy: 0.8395\n",
      "Epoch 66/100\n",
      "250/250 [==============================] - 0s 490us/step - loss: 0.4043 - precision: 0.7423 - accuracy: 0.8357 - val_loss: 0.4038 - val_precision: 0.7712 - val_accuracy: 0.8380\n",
      "Epoch 67/100\n",
      "250/250 [==============================] - 0s 501us/step - loss: 0.4050 - precision: 0.7410 - accuracy: 0.8365 - val_loss: 0.4047 - val_precision: 0.7872 - val_accuracy: 0.8370\n",
      "Epoch 68/100\n",
      "250/250 [==============================] - 0s 491us/step - loss: 0.4046 - precision: 0.7419 - accuracy: 0.8354 - val_loss: 0.4046 - val_precision: 0.6750 - val_accuracy: 0.8315\n",
      "Epoch 69/100\n",
      "250/250 [==============================] - 0s 491us/step - loss: 0.4039 - precision: 0.7419 - accuracy: 0.8372 - val_loss: 0.4040 - val_precision: 0.7662 - val_accuracy: 0.8375\n",
      "Epoch 70/100\n",
      "250/250 [==============================] - 0s 492us/step - loss: 0.4035 - precision: 0.7394 - accuracy: 0.8357 - val_loss: 0.4032 - val_precision: 0.7410 - val_accuracy: 0.8365\n",
      "Epoch 71/100\n",
      "250/250 [==============================] - 0s 500us/step - loss: 0.4034 - precision: 0.7485 - accuracy: 0.8365 - val_loss: 0.4027 - val_precision: 0.7857 - val_accuracy: 0.8405\n",
      "Epoch 72/100\n",
      "250/250 [==============================] - 0s 491us/step - loss: 0.4028 - precision: 0.7293 - accuracy: 0.8356 - val_loss: 0.4026 - val_precision: 0.7440 - val_accuracy: 0.8375\n",
      "Epoch 73/100\n",
      "250/250 [==============================] - 0s 490us/step - loss: 0.4025 - precision: 0.7428 - accuracy: 0.8364 - val_loss: 0.4015 - val_precision: 0.7673 - val_accuracy: 0.8390\n",
      "Epoch 74/100\n",
      "250/250 [==============================] - 0s 488us/step - loss: 0.4020 - precision: 0.7358 - accuracy: 0.8357 - val_loss: 0.4023 - val_precision: 0.6984 - val_accuracy: 0.8340\n",
      "Epoch 75/100\n",
      "250/250 [==============================] - 0s 488us/step - loss: 0.4012 - precision: 0.7388 - accuracy: 0.8363 - val_loss: 0.4031 - val_precision: 0.6471 - val_accuracy: 0.8290\n",
      "Epoch 76/100\n",
      "250/250 [==============================] - 0s 491us/step - loss: 0.4010 - precision: 0.7312 - accuracy: 0.8363 - val_loss: 0.4002 - val_precision: 0.7821 - val_accuracy: 0.8405\n",
      "Epoch 77/100\n",
      "250/250 [==============================] - 0s 488us/step - loss: 0.4005 - precision: 0.7430 - accuracy: 0.8374 - val_loss: 0.3995 - val_precision: 0.7862 - val_accuracy: 0.8420\n",
      "Epoch 78/100\n",
      "250/250 [==============================] - 0s 491us/step - loss: 0.3994 - precision: 0.7314 - accuracy: 0.8367 - val_loss: 0.3983 - val_precision: 0.7651 - val_accuracy: 0.8405\n",
      "Epoch 79/100\n",
      "250/250 [==============================] - 0s 487us/step - loss: 0.3981 - precision: 0.7378 - accuracy: 0.8375 - val_loss: 0.4001 - val_precision: 0.8239 - val_accuracy: 0.8425\n",
      "Epoch 80/100\n",
      "250/250 [==============================] - 0s 493us/step - loss: 0.3977 - precision: 0.7315 - accuracy: 0.8370 - val_loss: 0.3974 - val_precision: 0.7875 - val_accuracy: 0.8425\n",
      "Epoch 81/100\n",
      "250/250 [==============================] - 0s 489us/step - loss: 0.3967 - precision: 0.7438 - accuracy: 0.8381 - val_loss: 0.3966 - val_precision: 0.7670 - val_accuracy: 0.8435\n",
      "Epoch 82/100\n",
      "250/250 [==============================] - 0s 493us/step - loss: 0.3962 - precision: 0.7338 - accuracy: 0.8378 - val_loss: 0.3964 - val_precision: 0.7005 - val_accuracy: 0.8380\n",
      "Epoch 83/100\n",
      "250/250 [==============================] - 0s 490us/step - loss: 0.3953 - precision: 0.7376 - accuracy: 0.8395 - val_loss: 0.3974 - val_precision: 0.8079 - val_accuracy: 0.8430\n",
      "Epoch 84/100\n",
      "250/250 [==============================] - 0s 492us/step - loss: 0.3942 - precision: 0.7411 - accuracy: 0.8386 - val_loss: 0.3946 - val_precision: 0.7950 - val_accuracy: 0.8440\n",
      "Epoch 85/100\n",
      "250/250 [==============================] - 0s 490us/step - loss: 0.3933 - precision: 0.7419 - accuracy: 0.8391 - val_loss: 0.3926 - val_precision: 0.7317 - val_accuracy: 0.8440\n",
      "Epoch 86/100\n",
      "250/250 [==============================] - 0s 488us/step - loss: 0.3925 - precision: 0.7473 - accuracy: 0.8415 - val_loss: 0.3909 - val_precision: 0.7709 - val_accuracy: 0.8450\n",
      "Epoch 87/100\n",
      "250/250 [==============================] - 0s 500us/step - loss: 0.3924 - precision: 0.7448 - accuracy: 0.8404 - val_loss: 0.3916 - val_precision: 0.7952 - val_accuracy: 0.8455\n",
      "Epoch 88/100\n",
      "250/250 [==============================] - 0s 489us/step - loss: 0.3907 - precision: 0.7483 - accuracy: 0.8409 - val_loss: 0.3903 - val_precision: 0.7907 - val_accuracy: 0.8465\n",
      "Epoch 89/100\n",
      "250/250 [==============================] - 0s 480us/step - loss: 0.3899 - precision: 0.7456 - accuracy: 0.8419 - val_loss: 0.3890 - val_precision: 0.7898 - val_accuracy: 0.8475\n",
      "Epoch 90/100\n",
      "250/250 [==============================] - 0s 481us/step - loss: 0.3889 - precision: 0.7409 - accuracy: 0.8411 - val_loss: 0.3885 - val_precision: 0.8193 - val_accuracy: 0.8495\n",
      "Epoch 91/100\n",
      "250/250 [==============================] - 0s 478us/step - loss: 0.3881 - precision: 0.7436 - accuracy: 0.8414 - val_loss: 0.3872 - val_precision: 0.7914 - val_accuracy: 0.8510\n",
      "Epoch 92/100\n",
      "250/250 [==============================] - 0s 479us/step - loss: 0.3867 - precision: 0.7524 - accuracy: 0.8429 - val_loss: 0.3853 - val_precision: 0.7454 - val_accuracy: 0.8495\n",
      "Epoch 93/100\n",
      "250/250 [==============================] - 0s 489us/step - loss: 0.3844 - precision: 0.7451 - accuracy: 0.8436 - val_loss: 0.3830 - val_precision: 0.7789 - val_accuracy: 0.8520\n",
      "Epoch 94/100\n",
      "250/250 [==============================] - 0s 489us/step - loss: 0.3825 - precision: 0.7552 - accuracy: 0.8450 - val_loss: 0.3832 - val_precision: 0.8415 - val_accuracy: 0.8525\n",
      "Epoch 95/100\n",
      "250/250 [==============================] - 0s 489us/step - loss: 0.3808 - precision: 0.7581 - accuracy: 0.8461 - val_loss: 0.3806 - val_precision: 0.7772 - val_accuracy: 0.8525\n",
      "Epoch 96/100\n",
      "250/250 [==============================] - 0s 490us/step - loss: 0.3762 - precision: 0.7607 - accuracy: 0.8482 - val_loss: 0.3771 - val_precision: 0.7545 - val_accuracy: 0.8535\n",
      "Epoch 97/100\n",
      "250/250 [==============================] - 0s 494us/step - loss: 0.3726 - precision: 0.7620 - accuracy: 0.8494 - val_loss: 0.3738 - val_precision: 0.7850 - val_accuracy: 0.8575\n",
      "Epoch 98/100\n",
      "250/250 [==============================] - 0s 490us/step - loss: 0.3685 - precision: 0.7662 - accuracy: 0.8506 - val_loss: 0.3715 - val_precision: 0.8324 - val_accuracy: 0.8560\n",
      "Epoch 99/100\n",
      "250/250 [==============================] - 0s 488us/step - loss: 0.3660 - precision: 0.7677 - accuracy: 0.8510 - val_loss: 0.3676 - val_precision: 0.7706 - val_accuracy: 0.8555\n",
      "Epoch 100/100\n",
      "250/250 [==============================] - 0s 489us/step - loss: 0.3633 - precision: 0.7628 - accuracy: 0.8516 - val_loss: 0.3652 - val_precision: 0.8065 - val_accuracy: 0.8535\n",
      "12.77235221862793\n"
     ]
    }
   ],
   "source": [
    "# Training the model\n",
    "start = time.time()\n",
    "model.fit(x=x_train1_sc,\n",
    "        y=y_train,\n",
    "        epochs=100,\n",
    "        batch_size=32,\n",
    "        validation_data=(x_test1_sc,y_test))\n",
    "end=time.time()\n",
    "print(end-start)"
   ]
  },
  {
   "cell_type": "code",
   "execution_count": null,
   "id": "wTf2RtmLrGRm",
   "metadata": {
    "id": "wTf2RtmLrGRm"
   },
   "outputs": [],
   "source": []
  }
 ],
 "metadata": {
  "colab": {
   "provenance": []
  },
  "kernelspec": {
   "display_name": "Python 3 (ipykernel)",
   "language": "python",
   "name": "python3"
  },
  "language_info": {
   "codemirror_mode": {
    "name": "ipython",
    "version": 3
   },
   "file_extension": ".py",
   "mimetype": "text/x-python",
   "name": "python",
   "nbconvert_exporter": "python",
   "pygments_lexer": "ipython3",
   "version": "3.11.6"
  }
 },
 "nbformat": 4,
 "nbformat_minor": 5
}
